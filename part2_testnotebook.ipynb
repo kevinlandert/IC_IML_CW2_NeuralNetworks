{
 "cells": [
  {
   "cell_type": "code",
   "execution_count": 11,
   "metadata": {},
   "outputs": [
    {
     "name": "stdout",
     "output_type": "stream",
     "text": [
      "The autoreload extension is already loaded. To reload it, use:\n",
      "  %reload_ext autoreload\n"
     ]
    }
   ],
   "source": [
    "import pandas as pd\n",
    "import numpy as np\n",
    "from part2_house_value_regression import *\n",
    "from matplotlib import pyplot as plt\n",
    "from sklearn.preprocessing import StandardScaler, LabelEncoder, LabelBinarizer\n",
    "from sklearn.model_selection import KFold\n",
    "\n",
    "%load_ext autoreload\n",
    "%autoreload 2"
   ]
  },
  {
   "cell_type": "code",
   "execution_count": 12,
   "metadata": {},
   "outputs": [],
   "source": [
    "data = pd.read_csv(\"housing.csv\") "
   ]
  },
  {
   "cell_type": "code",
   "execution_count": 13,
   "metadata": {},
   "outputs": [
    {
     "data": {
      "text/html": [
       "<div>\n",
       "<style scoped>\n",
       "    .dataframe tbody tr th:only-of-type {\n",
       "        vertical-align: middle;\n",
       "    }\n",
       "\n",
       "    .dataframe tbody tr th {\n",
       "        vertical-align: top;\n",
       "    }\n",
       "\n",
       "    .dataframe thead th {\n",
       "        text-align: right;\n",
       "    }\n",
       "</style>\n",
       "<table border=\"1\" class=\"dataframe\">\n",
       "  <thead>\n",
       "    <tr style=\"text-align: right;\">\n",
       "      <th></th>\n",
       "      <th>longitude</th>\n",
       "      <th>latitude</th>\n",
       "      <th>housing_median_age</th>\n",
       "      <th>total_rooms</th>\n",
       "      <th>total_bedrooms</th>\n",
       "      <th>population</th>\n",
       "      <th>households</th>\n",
       "      <th>median_income</th>\n",
       "      <th>ocean_proximity</th>\n",
       "      <th>median_house_value</th>\n",
       "    </tr>\n",
       "  </thead>\n",
       "  <tbody>\n",
       "    <tr>\n",
       "      <th>0</th>\n",
       "      <td>-117.61</td>\n",
       "      <td>34.13</td>\n",
       "      <td>21.0</td>\n",
       "      <td>8416.0</td>\n",
       "      <td>1386.0</td>\n",
       "      <td>4308.0</td>\n",
       "      <td>1341.0</td>\n",
       "      <td>4.4611</td>\n",
       "      <td>INLAND</td>\n",
       "      <td>164600.0</td>\n",
       "    </tr>\n",
       "    <tr>\n",
       "      <th>1</th>\n",
       "      <td>-117.37</td>\n",
       "      <td>33.98</td>\n",
       "      <td>52.0</td>\n",
       "      <td>201.0</td>\n",
       "      <td>44.0</td>\n",
       "      <td>130.0</td>\n",
       "      <td>24.0</td>\n",
       "      <td>2.0250</td>\n",
       "      <td>INLAND</td>\n",
       "      <td>125000.0</td>\n",
       "    </tr>\n",
       "    <tr>\n",
       "      <th>2</th>\n",
       "      <td>-118.34</td>\n",
       "      <td>33.89</td>\n",
       "      <td>36.0</td>\n",
       "      <td>2274.0</td>\n",
       "      <td>411.0</td>\n",
       "      <td>1232.0</td>\n",
       "      <td>423.0</td>\n",
       "      <td>5.3730</td>\n",
       "      <td>&lt;1H OCEAN</td>\n",
       "      <td>244500.0</td>\n",
       "    </tr>\n",
       "    <tr>\n",
       "      <th>3</th>\n",
       "      <td>-118.92</td>\n",
       "      <td>35.13</td>\n",
       "      <td>29.0</td>\n",
       "      <td>1297.0</td>\n",
       "      <td>262.0</td>\n",
       "      <td>909.0</td>\n",
       "      <td>253.0</td>\n",
       "      <td>1.9236</td>\n",
       "      <td>INLAND</td>\n",
       "      <td>106300.0</td>\n",
       "    </tr>\n",
       "    <tr>\n",
       "      <th>4</th>\n",
       "      <td>-121.80</td>\n",
       "      <td>37.23</td>\n",
       "      <td>18.0</td>\n",
       "      <td>3179.0</td>\n",
       "      <td>526.0</td>\n",
       "      <td>1663.0</td>\n",
       "      <td>507.0</td>\n",
       "      <td>5.9225</td>\n",
       "      <td>&lt;1H OCEAN</td>\n",
       "      <td>265800.0</td>\n",
       "    </tr>\n",
       "    <tr>\n",
       "      <th>...</th>\n",
       "      <td>...</td>\n",
       "      <td>...</td>\n",
       "      <td>...</td>\n",
       "      <td>...</td>\n",
       "      <td>...</td>\n",
       "      <td>...</td>\n",
       "      <td>...</td>\n",
       "      <td>...</td>\n",
       "      <td>...</td>\n",
       "      <td>...</td>\n",
       "    </tr>\n",
       "    <tr>\n",
       "      <th>16507</th>\n",
       "      <td>-119.53</td>\n",
       "      <td>36.55</td>\n",
       "      <td>34.0</td>\n",
       "      <td>2065.0</td>\n",
       "      <td>343.0</td>\n",
       "      <td>1041.0</td>\n",
       "      <td>313.0</td>\n",
       "      <td>3.2917</td>\n",
       "      <td>INLAND</td>\n",
       "      <td>111500.0</td>\n",
       "    </tr>\n",
       "    <tr>\n",
       "      <th>16508</th>\n",
       "      <td>-122.40</td>\n",
       "      <td>37.73</td>\n",
       "      <td>50.0</td>\n",
       "      <td>1947.0</td>\n",
       "      <td>411.0</td>\n",
       "      <td>1170.0</td>\n",
       "      <td>384.0</td>\n",
       "      <td>3.4769</td>\n",
       "      <td>NEAR BAY</td>\n",
       "      <td>238700.0</td>\n",
       "    </tr>\n",
       "    <tr>\n",
       "      <th>16509</th>\n",
       "      <td>-118.41</td>\n",
       "      <td>33.92</td>\n",
       "      <td>29.0</td>\n",
       "      <td>1436.0</td>\n",
       "      <td>401.0</td>\n",
       "      <td>674.0</td>\n",
       "      <td>343.0</td>\n",
       "      <td>3.6389</td>\n",
       "      <td>&lt;1H OCEAN</td>\n",
       "      <td>275000.0</td>\n",
       "    </tr>\n",
       "    <tr>\n",
       "      <th>16510</th>\n",
       "      <td>-117.08</td>\n",
       "      <td>32.62</td>\n",
       "      <td>36.0</td>\n",
       "      <td>1674.0</td>\n",
       "      <td>309.0</td>\n",
       "      <td>818.0</td>\n",
       "      <td>307.0</td>\n",
       "      <td>3.4773</td>\n",
       "      <td>NEAR OCEAN</td>\n",
       "      <td>150400.0</td>\n",
       "    </tr>\n",
       "    <tr>\n",
       "      <th>16511</th>\n",
       "      <td>-117.05</td>\n",
       "      <td>32.72</td>\n",
       "      <td>35.0</td>\n",
       "      <td>3669.0</td>\n",
       "      <td>617.0</td>\n",
       "      <td>1694.0</td>\n",
       "      <td>585.0</td>\n",
       "      <td>3.9485</td>\n",
       "      <td>NEAR OCEAN</td>\n",
       "      <td>133900.0</td>\n",
       "    </tr>\n",
       "  </tbody>\n",
       "</table>\n",
       "<p>16512 rows × 10 columns</p>\n",
       "</div>"
      ],
      "text/plain": [
       "       longitude  latitude  housing_median_age  total_rooms  total_bedrooms  \\\n",
       "0        -117.61     34.13                21.0       8416.0          1386.0   \n",
       "1        -117.37     33.98                52.0        201.0            44.0   \n",
       "2        -118.34     33.89                36.0       2274.0           411.0   \n",
       "3        -118.92     35.13                29.0       1297.0           262.0   \n",
       "4        -121.80     37.23                18.0       3179.0           526.0   \n",
       "...          ...       ...                 ...          ...             ...   \n",
       "16507    -119.53     36.55                34.0       2065.0           343.0   \n",
       "16508    -122.40     37.73                50.0       1947.0           411.0   \n",
       "16509    -118.41     33.92                29.0       1436.0           401.0   \n",
       "16510    -117.08     32.62                36.0       1674.0           309.0   \n",
       "16511    -117.05     32.72                35.0       3669.0           617.0   \n",
       "\n",
       "       population  households  median_income ocean_proximity  \\\n",
       "0          4308.0      1341.0         4.4611          INLAND   \n",
       "1           130.0        24.0         2.0250          INLAND   \n",
       "2          1232.0       423.0         5.3730       <1H OCEAN   \n",
       "3           909.0       253.0         1.9236          INLAND   \n",
       "4          1663.0       507.0         5.9225       <1H OCEAN   \n",
       "...           ...         ...            ...             ...   \n",
       "16507      1041.0       313.0         3.2917          INLAND   \n",
       "16508      1170.0       384.0         3.4769        NEAR BAY   \n",
       "16509       674.0       343.0         3.6389       <1H OCEAN   \n",
       "16510       818.0       307.0         3.4773      NEAR OCEAN   \n",
       "16511      1694.0       585.0         3.9485      NEAR OCEAN   \n",
       "\n",
       "       median_house_value  \n",
       "0                164600.0  \n",
       "1                125000.0  \n",
       "2                244500.0  \n",
       "3                106300.0  \n",
       "4                265800.0  \n",
       "...                   ...  \n",
       "16507            111500.0  \n",
       "16508            238700.0  \n",
       "16509            275000.0  \n",
       "16510            150400.0  \n",
       "16511            133900.0  \n",
       "\n",
       "[16512 rows x 10 columns]"
      ]
     },
     "execution_count": 13,
     "metadata": {},
     "output_type": "execute_result"
    }
   ],
   "source": [
    "data"
   ]
  },
  {
   "cell_type": "code",
   "execution_count": 5,
   "metadata": {},
   "outputs": [],
   "source": [
    "#scaler_x = StandardScaler()\n",
    "#scaler_y = StandardScaler()\n",
    "#label_encoder = LabelEncoder()"
   ]
  },
  {
   "cell_type": "code",
   "execution_count": 6,
   "metadata": {},
   "outputs": [
    {
     "data": {
      "text/plain": [
       "3"
      ]
     },
     "execution_count": 6,
     "metadata": {},
     "output_type": "execute_result"
    }
   ],
   "source": [
    "torch.tensor([[0,1],[9,4],[6,5]]).shape[0]"
   ]
  },
  {
   "cell_type": "code",
   "execution_count": 45,
   "metadata": {},
   "outputs": [
    {
     "name": "stderr",
     "output_type": "stream",
     "text": [
      "[autoreload of part2_house_value_regression failed: Traceback (most recent call last):\n",
      "  File \"/vol/bitbucket/nuric/docenv/lib/python3.8/site-packages/IPython/extensions/autoreload.py\", line 245, in check\n",
      "    superreload(m, reload, self.old_objects)\n",
      "  File \"/vol/bitbucket/nuric/docenv/lib/python3.8/site-packages/IPython/extensions/autoreload.py\", line 394, in superreload\n",
      "    module = reload(module)\n",
      "  File \"/usr/lib/python3.8/imp.py\", line 314, in reload\n",
      "    return importlib.reload(module)\n",
      "  File \"/usr/lib/python3.8/importlib/__init__.py\", line 169, in reload\n",
      "    _bootstrap._exec(spec, module)\n",
      "  File \"<frozen importlib._bootstrap>\", line 604, in _exec\n",
      "  File \"<frozen importlib._bootstrap_external>\", line 779, in exec_module\n",
      "  File \"<frozen importlib._bootstrap_external>\", line 916, in get_code\n",
      "  File \"<frozen importlib._bootstrap_external>\", line 846, in source_to_code\n",
      "  File \"<frozen importlib._bootstrap>\", line 219, in _call_with_frames_removed\n",
      "  File \"/homes/kgl20/Courses/neural_networks_51/part2_house_value_regression.py\", line 230\n",
      "    if epoch == 10:\n",
      "                  ^\n",
      "SyntaxError: invalid syntax\n",
      "]\n"
     ]
    }
   ],
   "source": [
    "epoch = 21\n",
    "if (((epoch + 1) % 20) == 0):\n",
    "    \n",
    "    print(\"hello\")"
   ]
  },
  {
   "cell_type": "code",
   "execution_count": 7,
   "metadata": {},
   "outputs": [],
   "source": [
    "output_label = \"median_house_value\"\n",
    "x = data.loc[:, data.columns != output_label]\n",
    "y = data.loc[:, [output_label]]"
   ]
  },
  {
   "cell_type": "code",
   "execution_count": 8,
   "metadata": {},
   "outputs": [
    {
     "data": {
      "text/html": [
       "<div>\n",
       "<style scoped>\n",
       "    .dataframe tbody tr th:only-of-type {\n",
       "        vertical-align: middle;\n",
       "    }\n",
       "\n",
       "    .dataframe tbody tr th {\n",
       "        vertical-align: top;\n",
       "    }\n",
       "\n",
       "    .dataframe thead th {\n",
       "        text-align: right;\n",
       "    }\n",
       "</style>\n",
       "<table border=\"1\" class=\"dataframe\">\n",
       "  <thead>\n",
       "    <tr style=\"text-align: right;\">\n",
       "      <th></th>\n",
       "      <th>median_house_value</th>\n",
       "    </tr>\n",
       "  </thead>\n",
       "  <tbody>\n",
       "    <tr>\n",
       "      <th>0</th>\n",
       "      <td>164600.0</td>\n",
       "    </tr>\n",
       "    <tr>\n",
       "      <th>1</th>\n",
       "      <td>125000.0</td>\n",
       "    </tr>\n",
       "    <tr>\n",
       "      <th>2</th>\n",
       "      <td>244500.0</td>\n",
       "    </tr>\n",
       "    <tr>\n",
       "      <th>3</th>\n",
       "      <td>106300.0</td>\n",
       "    </tr>\n",
       "    <tr>\n",
       "      <th>4</th>\n",
       "      <td>265800.0</td>\n",
       "    </tr>\n",
       "    <tr>\n",
       "      <th>...</th>\n",
       "      <td>...</td>\n",
       "    </tr>\n",
       "    <tr>\n",
       "      <th>16507</th>\n",
       "      <td>111500.0</td>\n",
       "    </tr>\n",
       "    <tr>\n",
       "      <th>16508</th>\n",
       "      <td>238700.0</td>\n",
       "    </tr>\n",
       "    <tr>\n",
       "      <th>16509</th>\n",
       "      <td>275000.0</td>\n",
       "    </tr>\n",
       "    <tr>\n",
       "      <th>16510</th>\n",
       "      <td>150400.0</td>\n",
       "    </tr>\n",
       "    <tr>\n",
       "      <th>16511</th>\n",
       "      <td>133900.0</td>\n",
       "    </tr>\n",
       "  </tbody>\n",
       "</table>\n",
       "<p>16512 rows × 1 columns</p>\n",
       "</div>"
      ],
      "text/plain": [
       "       median_house_value\n",
       "0                164600.0\n",
       "1                125000.0\n",
       "2                244500.0\n",
       "3                106300.0\n",
       "4                265800.0\n",
       "...                   ...\n",
       "16507            111500.0\n",
       "16508            238700.0\n",
       "16509            275000.0\n",
       "16510            150400.0\n",
       "16511            133900.0\n",
       "\n",
       "[16512 rows x 1 columns]"
      ]
     },
     "execution_count": 8,
     "metadata": {},
     "output_type": "execute_result"
    }
   ],
   "source": [
    "y"
   ]
  },
  {
   "cell_type": "code",
   "execution_count": 54,
   "metadata": {},
   "outputs": [
    {
     "data": {
      "text/html": [
       "<div>\n",
       "<style scoped>\n",
       "    .dataframe tbody tr th:only-of-type {\n",
       "        vertical-align: middle;\n",
       "    }\n",
       "\n",
       "    .dataframe tbody tr th {\n",
       "        vertical-align: top;\n",
       "    }\n",
       "\n",
       "    .dataframe thead th {\n",
       "        text-align: right;\n",
       "    }\n",
       "</style>\n",
       "<table border=\"1\" class=\"dataframe\">\n",
       "  <thead>\n",
       "    <tr style=\"text-align: right;\">\n",
       "      <th></th>\n",
       "      <th>longitude</th>\n",
       "      <th>latitude</th>\n",
       "      <th>housing_median_age</th>\n",
       "      <th>total_rooms</th>\n",
       "      <th>total_bedrooms</th>\n",
       "      <th>population</th>\n",
       "      <th>households</th>\n",
       "      <th>median_income</th>\n",
       "      <th>ocean_proximity</th>\n",
       "    </tr>\n",
       "  </thead>\n",
       "  <tbody>\n",
       "    <tr>\n",
       "      <th>0</th>\n",
       "      <td>-117.61</td>\n",
       "      <td>34.13</td>\n",
       "      <td>21.0</td>\n",
       "      <td>8416.0</td>\n",
       "      <td>1386.0</td>\n",
       "      <td>4308.0</td>\n",
       "      <td>1341.0</td>\n",
       "      <td>4.4611</td>\n",
       "      <td>INLAND</td>\n",
       "    </tr>\n",
       "    <tr>\n",
       "      <th>1</th>\n",
       "      <td>-117.37</td>\n",
       "      <td>33.98</td>\n",
       "      <td>52.0</td>\n",
       "      <td>201.0</td>\n",
       "      <td>44.0</td>\n",
       "      <td>130.0</td>\n",
       "      <td>24.0</td>\n",
       "      <td>2.0250</td>\n",
       "      <td>INLAND</td>\n",
       "    </tr>\n",
       "    <tr>\n",
       "      <th>2</th>\n",
       "      <td>-118.34</td>\n",
       "      <td>33.89</td>\n",
       "      <td>36.0</td>\n",
       "      <td>2274.0</td>\n",
       "      <td>411.0</td>\n",
       "      <td>1232.0</td>\n",
       "      <td>423.0</td>\n",
       "      <td>5.3730</td>\n",
       "      <td>&lt;1H OCEAN</td>\n",
       "    </tr>\n",
       "    <tr>\n",
       "      <th>3</th>\n",
       "      <td>-118.92</td>\n",
       "      <td>35.13</td>\n",
       "      <td>29.0</td>\n",
       "      <td>1297.0</td>\n",
       "      <td>262.0</td>\n",
       "      <td>909.0</td>\n",
       "      <td>253.0</td>\n",
       "      <td>1.9236</td>\n",
       "      <td>INLAND</td>\n",
       "    </tr>\n",
       "    <tr>\n",
       "      <th>4</th>\n",
       "      <td>-121.80</td>\n",
       "      <td>37.23</td>\n",
       "      <td>18.0</td>\n",
       "      <td>3179.0</td>\n",
       "      <td>526.0</td>\n",
       "      <td>1663.0</td>\n",
       "      <td>507.0</td>\n",
       "      <td>5.9225</td>\n",
       "      <td>&lt;1H OCEAN</td>\n",
       "    </tr>\n",
       "    <tr>\n",
       "      <th>...</th>\n",
       "      <td>...</td>\n",
       "      <td>...</td>\n",
       "      <td>...</td>\n",
       "      <td>...</td>\n",
       "      <td>...</td>\n",
       "      <td>...</td>\n",
       "      <td>...</td>\n",
       "      <td>...</td>\n",
       "      <td>...</td>\n",
       "    </tr>\n",
       "    <tr>\n",
       "      <th>995</th>\n",
       "      <td>-123.20</td>\n",
       "      <td>39.16</td>\n",
       "      <td>14.0</td>\n",
       "      <td>1908.0</td>\n",
       "      <td>484.0</td>\n",
       "      <td>1195.0</td>\n",
       "      <td>467.0</td>\n",
       "      <td>1.7929</td>\n",
       "      <td>&lt;1H OCEAN</td>\n",
       "    </tr>\n",
       "    <tr>\n",
       "      <th>996</th>\n",
       "      <td>-117.99</td>\n",
       "      <td>33.82</td>\n",
       "      <td>21.0</td>\n",
       "      <td>2281.0</td>\n",
       "      <td>557.0</td>\n",
       "      <td>1510.0</td>\n",
       "      <td>460.0</td>\n",
       "      <td>2.8625</td>\n",
       "      <td>&lt;1H OCEAN</td>\n",
       "    </tr>\n",
       "    <tr>\n",
       "      <th>997</th>\n",
       "      <td>-115.60</td>\n",
       "      <td>32.87</td>\n",
       "      <td>3.0</td>\n",
       "      <td>1629.0</td>\n",
       "      <td>317.0</td>\n",
       "      <td>1005.0</td>\n",
       "      <td>312.0</td>\n",
       "      <td>4.1293</td>\n",
       "      <td>INLAND</td>\n",
       "    </tr>\n",
       "    <tr>\n",
       "      <th>998</th>\n",
       "      <td>-118.75</td>\n",
       "      <td>34.29</td>\n",
       "      <td>17.0</td>\n",
       "      <td>5512.0</td>\n",
       "      <td>NaN</td>\n",
       "      <td>2734.0</td>\n",
       "      <td>814.0</td>\n",
       "      <td>6.6073</td>\n",
       "      <td>&lt;1H OCEAN</td>\n",
       "    </tr>\n",
       "    <tr>\n",
       "      <th>999</th>\n",
       "      <td>-119.68</td>\n",
       "      <td>36.83</td>\n",
       "      <td>11.0</td>\n",
       "      <td>2455.0</td>\n",
       "      <td>344.0</td>\n",
       "      <td>1110.0</td>\n",
       "      <td>339.0</td>\n",
       "      <td>6.1133</td>\n",
       "      <td>INLAND</td>\n",
       "    </tr>\n",
       "  </tbody>\n",
       "</table>\n",
       "<p>1000 rows × 9 columns</p>\n",
       "</div>"
      ],
      "text/plain": [
       "     longitude  latitude  housing_median_age  total_rooms  total_bedrooms  \\\n",
       "0      -117.61     34.13                21.0       8416.0          1386.0   \n",
       "1      -117.37     33.98                52.0        201.0            44.0   \n",
       "2      -118.34     33.89                36.0       2274.0           411.0   \n",
       "3      -118.92     35.13                29.0       1297.0           262.0   \n",
       "4      -121.80     37.23                18.0       3179.0           526.0   \n",
       "..         ...       ...                 ...          ...             ...   \n",
       "995    -123.20     39.16                14.0       1908.0           484.0   \n",
       "996    -117.99     33.82                21.0       2281.0           557.0   \n",
       "997    -115.60     32.87                 3.0       1629.0           317.0   \n",
       "998    -118.75     34.29                17.0       5512.0             NaN   \n",
       "999    -119.68     36.83                11.0       2455.0           344.0   \n",
       "\n",
       "     population  households  median_income ocean_proximity  \n",
       "0        4308.0      1341.0         4.4611          INLAND  \n",
       "1         130.0        24.0         2.0250          INLAND  \n",
       "2        1232.0       423.0         5.3730       <1H OCEAN  \n",
       "3         909.0       253.0         1.9236          INLAND  \n",
       "4        1663.0       507.0         5.9225       <1H OCEAN  \n",
       "..          ...         ...            ...             ...  \n",
       "995      1195.0       467.0         1.7929       <1H OCEAN  \n",
       "996      1510.0       460.0         2.8625       <1H OCEAN  \n",
       "997      1005.0       312.0         4.1293          INLAND  \n",
       "998      2734.0       814.0         6.6073       <1H OCEAN  \n",
       "999      1110.0       339.0         6.1133          INLAND  \n",
       "\n",
       "[1000 rows x 9 columns]"
      ]
     },
     "execution_count": 54,
     "metadata": {},
     "output_type": "execute_result"
    }
   ],
   "source": [
    "x[:1000]"
   ]
  },
  {
   "cell_type": "code",
   "execution_count": 21,
   "metadata": {},
   "outputs": [],
   "source": [
    "kf = KFold(n_splits = 10)"
   ]
  },
  {
   "cell_type": "code",
   "execution_count": 27,
   "metadata": {},
   "outputs": [
    {
     "name": "stdout",
     "output_type": "stream",
     "text": [
      "0\n",
      "(array([10, 11, 12, 13, 14, 15, 16, 17, 18, 19, 20, 21, 22, 23, 24, 25, 26,\n",
      "       27, 28, 29, 30, 31, 32, 33, 34, 35, 36, 37, 38, 39, 40, 41, 42, 43,\n",
      "       44, 45, 46, 47, 48, 49, 50, 51, 52, 53, 54, 55, 56, 57, 58, 59, 60,\n",
      "       61, 62, 63, 64, 65, 66, 67, 68, 69, 70, 71, 72, 73, 74, 75, 76, 77,\n",
      "       78, 79, 80, 81, 82, 83, 84, 85, 86, 87, 88, 89, 90, 91, 92, 93, 94,\n",
      "       95, 96, 97, 98, 99]), array([0, 1, 2, 3, 4, 5, 6, 7, 8, 9]))\n",
      "1\n",
      "(array([ 0,  1,  2,  3,  4,  5,  6,  7,  8,  9, 20, 21, 22, 23, 24, 25, 26,\n",
      "       27, 28, 29, 30, 31, 32, 33, 34, 35, 36, 37, 38, 39, 40, 41, 42, 43,\n",
      "       44, 45, 46, 47, 48, 49, 50, 51, 52, 53, 54, 55, 56, 57, 58, 59, 60,\n",
      "       61, 62, 63, 64, 65, 66, 67, 68, 69, 70, 71, 72, 73, 74, 75, 76, 77,\n",
      "       78, 79, 80, 81, 82, 83, 84, 85, 86, 87, 88, 89, 90, 91, 92, 93, 94,\n",
      "       95, 96, 97, 98, 99]), array([10, 11, 12, 13, 14, 15, 16, 17, 18, 19]))\n",
      "2\n",
      "(array([ 0,  1,  2,  3,  4,  5,  6,  7,  8,  9, 10, 11, 12, 13, 14, 15, 16,\n",
      "       17, 18, 19, 30, 31, 32, 33, 34, 35, 36, 37, 38, 39, 40, 41, 42, 43,\n",
      "       44, 45, 46, 47, 48, 49, 50, 51, 52, 53, 54, 55, 56, 57, 58, 59, 60,\n",
      "       61, 62, 63, 64, 65, 66, 67, 68, 69, 70, 71, 72, 73, 74, 75, 76, 77,\n",
      "       78, 79, 80, 81, 82, 83, 84, 85, 86, 87, 88, 89, 90, 91, 92, 93, 94,\n",
      "       95, 96, 97, 98, 99]), array([20, 21, 22, 23, 24, 25, 26, 27, 28, 29]))\n",
      "3\n",
      "(array([ 0,  1,  2,  3,  4,  5,  6,  7,  8,  9, 10, 11, 12, 13, 14, 15, 16,\n",
      "       17, 18, 19, 20, 21, 22, 23, 24, 25, 26, 27, 28, 29, 40, 41, 42, 43,\n",
      "       44, 45, 46, 47, 48, 49, 50, 51, 52, 53, 54, 55, 56, 57, 58, 59, 60,\n",
      "       61, 62, 63, 64, 65, 66, 67, 68, 69, 70, 71, 72, 73, 74, 75, 76, 77,\n",
      "       78, 79, 80, 81, 82, 83, 84, 85, 86, 87, 88, 89, 90, 91, 92, 93, 94,\n",
      "       95, 96, 97, 98, 99]), array([30, 31, 32, 33, 34, 35, 36, 37, 38, 39]))\n",
      "4\n",
      "(array([ 0,  1,  2,  3,  4,  5,  6,  7,  8,  9, 10, 11, 12, 13, 14, 15, 16,\n",
      "       17, 18, 19, 20, 21, 22, 23, 24, 25, 26, 27, 28, 29, 30, 31, 32, 33,\n",
      "       34, 35, 36, 37, 38, 39, 50, 51, 52, 53, 54, 55, 56, 57, 58, 59, 60,\n",
      "       61, 62, 63, 64, 65, 66, 67, 68, 69, 70, 71, 72, 73, 74, 75, 76, 77,\n",
      "       78, 79, 80, 81, 82, 83, 84, 85, 86, 87, 88, 89, 90, 91, 92, 93, 94,\n",
      "       95, 96, 97, 98, 99]), array([40, 41, 42, 43, 44, 45, 46, 47, 48, 49]))\n",
      "5\n",
      "(array([ 0,  1,  2,  3,  4,  5,  6,  7,  8,  9, 10, 11, 12, 13, 14, 15, 16,\n",
      "       17, 18, 19, 20, 21, 22, 23, 24, 25, 26, 27, 28, 29, 30, 31, 32, 33,\n",
      "       34, 35, 36, 37, 38, 39, 40, 41, 42, 43, 44, 45, 46, 47, 48, 49, 60,\n",
      "       61, 62, 63, 64, 65, 66, 67, 68, 69, 70, 71, 72, 73, 74, 75, 76, 77,\n",
      "       78, 79, 80, 81, 82, 83, 84, 85, 86, 87, 88, 89, 90, 91, 92, 93, 94,\n",
      "       95, 96, 97, 98, 99]), array([50, 51, 52, 53, 54, 55, 56, 57, 58, 59]))\n",
      "6\n",
      "(array([ 0,  1,  2,  3,  4,  5,  6,  7,  8,  9, 10, 11, 12, 13, 14, 15, 16,\n",
      "       17, 18, 19, 20, 21, 22, 23, 24, 25, 26, 27, 28, 29, 30, 31, 32, 33,\n",
      "       34, 35, 36, 37, 38, 39, 40, 41, 42, 43, 44, 45, 46, 47, 48, 49, 50,\n",
      "       51, 52, 53, 54, 55, 56, 57, 58, 59, 70, 71, 72, 73, 74, 75, 76, 77,\n",
      "       78, 79, 80, 81, 82, 83, 84, 85, 86, 87, 88, 89, 90, 91, 92, 93, 94,\n",
      "       95, 96, 97, 98, 99]), array([60, 61, 62, 63, 64, 65, 66, 67, 68, 69]))\n",
      "7\n",
      "(array([ 0,  1,  2,  3,  4,  5,  6,  7,  8,  9, 10, 11, 12, 13, 14, 15, 16,\n",
      "       17, 18, 19, 20, 21, 22, 23, 24, 25, 26, 27, 28, 29, 30, 31, 32, 33,\n",
      "       34, 35, 36, 37, 38, 39, 40, 41, 42, 43, 44, 45, 46, 47, 48, 49, 50,\n",
      "       51, 52, 53, 54, 55, 56, 57, 58, 59, 60, 61, 62, 63, 64, 65, 66, 67,\n",
      "       68, 69, 80, 81, 82, 83, 84, 85, 86, 87, 88, 89, 90, 91, 92, 93, 94,\n",
      "       95, 96, 97, 98, 99]), array([70, 71, 72, 73, 74, 75, 76, 77, 78, 79]))\n",
      "8\n",
      "(array([ 0,  1,  2,  3,  4,  5,  6,  7,  8,  9, 10, 11, 12, 13, 14, 15, 16,\n",
      "       17, 18, 19, 20, 21, 22, 23, 24, 25, 26, 27, 28, 29, 30, 31, 32, 33,\n",
      "       34, 35, 36, 37, 38, 39, 40, 41, 42, 43, 44, 45, 46, 47, 48, 49, 50,\n",
      "       51, 52, 53, 54, 55, 56, 57, 58, 59, 60, 61, 62, 63, 64, 65, 66, 67,\n",
      "       68, 69, 70, 71, 72, 73, 74, 75, 76, 77, 78, 79, 90, 91, 92, 93, 94,\n",
      "       95, 96, 97, 98, 99]), array([80, 81, 82, 83, 84, 85, 86, 87, 88, 89]))\n",
      "9\n",
      "(array([ 0,  1,  2,  3,  4,  5,  6,  7,  8,  9, 10, 11, 12, 13, 14, 15, 16,\n",
      "       17, 18, 19, 20, 21, 22, 23, 24, 25, 26, 27, 28, 29, 30, 31, 32, 33,\n",
      "       34, 35, 36, 37, 38, 39, 40, 41, 42, 43, 44, 45, 46, 47, 48, 49, 50,\n",
      "       51, 52, 53, 54, 55, 56, 57, 58, 59, 60, 61, 62, 63, 64, 65, 66, 67,\n",
      "       68, 69, 70, 71, 72, 73, 74, 75, 76, 77, 78, 79, 80, 81, 82, 83, 84,\n",
      "       85, 86, 87, 88, 89]), array([90, 91, 92, 93, 94, 95, 96, 97, 98, 99]))\n"
     ]
    }
   ],
   "source": [
    "for i,x in enumerate(kf.split(np.arange(100))):\n",
    "    print(i)\n",
    "    print(x)"
   ]
  },
  {
   "cell_type": "code",
   "execution_count": null,
   "metadata": {},
   "outputs": [],
   "source": []
  },
  {
   "cell_type": "code",
   "execution_count": 9,
   "metadata": {},
   "outputs": [],
   "source": [
    "regressor = Regressor(x)"
   ]
  },
  {
   "cell_type": "code",
   "execution_count": 10,
   "metadata": {},
   "outputs": [
    {
     "data": {
      "text/plain": [
       "torch.Size([16512, 9])"
      ]
     },
     "execution_count": 10,
     "metadata": {},
     "output_type": "execute_result"
    }
   ],
   "source": [
    "regressor.X.shape"
   ]
  },
  {
   "cell_type": "code",
   "execution_count": 13,
   "metadata": {},
   "outputs": [
    {
     "data": {
      "text/plain": [
       "tensor([[ 1.0000,  0.9731, -0.6972,  ...,  2.5134,  2.1826,  0.3074],\n",
       "        [ 1.0000,  1.0928, -0.7675,  ..., -1.1292, -1.2350, -0.9665],\n",
       "        [ 0.0000,  0.6087, -0.8097,  ..., -0.1684, -0.1996,  0.7842],\n",
       "        ...,\n",
       "        [ 0.0000,  0.5737, -0.7956,  ..., -0.6549, -0.4072, -0.1226],\n",
       "        [ 4.0000,  1.2376, -1.4048,  ..., -0.5294, -0.5006, -0.2071],\n",
       "        [ 4.0000,  1.2526, -1.3580,  ...,  0.2344,  0.2208,  0.0393]])"
      ]
     },
     "execution_count": 13,
     "metadata": {},
     "output_type": "execute_result"
    }
   ],
   "source": [
    "regressor.X"
   ]
  },
  {
   "cell_type": "code",
   "execution_count": 14,
   "metadata": {},
   "outputs": [
    {
     "data": {
      "text/plain": [
       "tensor([ 1.0000,  0.9731, -0.6972, -0.6080,  2.6277,  2.0031,  2.5134,  2.1826,\n",
       "         0.3074])"
      ]
     },
     "execution_count": 14,
     "metadata": {},
     "output_type": "execute_result"
    }
   ],
   "source": [
    "regressor.X[0,:]"
   ]
  },
  {
   "cell_type": "code",
   "execution_count": 24,
   "metadata": {},
   "outputs": [
    {
     "name": "stdout",
     "output_type": "stream",
     "text": [
      "longitude\n",
      "Example of values: [-124.35 -124.3  -124.27 -124.26 -124.25 -124.23 -124.22 -124.21 -124.19\n",
      " -124.18]\n",
      "Min: -124.35 - Max: -114.31 - Median: -119.68783353733168\n",
      "Nr of unique values: 817 -  Max occurence: 138 - Min occurence: 1\n",
      "Number of na: 0\n"
     ]
    },
    {
     "data": {
      "image/png": "[encoded data removed]",
      "text/plain": [
       "<Figure size 432x288 with 1 Axes>"
      ]
     },
     "metadata": {
      "needs_background": "light"
     },
     "output_type": "display_data"
    },
    {
     "name": "stdout",
     "output_type": "stream",
     "text": [
      "\n",
      "latitude\n",
      "Example of values: [32.54 32.55 32.56 32.57 32.58 32.59 32.6  32.61 32.62 32.63]\n",
      "Min: 32.54 - Max: 41.95 - Median: 36.96072705601907\n",
      "Nr of unique values: 839 -  Max occurence: 200 - Min occurence: 1\n",
      "Number of na: 0\n"
     ]
    },
    {
     "data": {
      "image/png": "[encoded data removed]",
      "text/plain": [
       "<Figure size 432x288 with 1 Axes>"
      ]
     },
     "metadata": {
      "needs_background": "light"
     },
     "output_type": "display_data"
    },
    {
     "name": "stdout",
     "output_type": "stream",
     "text": [
      "\n",
      "housing_median_age\n",
      "Example of values: [ 1.  2.  3.  4.  5.  6.  7.  8.  9. 10.]\n",
      "Min: 1.0 - Max: 52.0 - Median: 26.5\n",
      "Nr of unique values: 52 -  Max occurence: 1021 - Min occurence: 4\n",
      "Number of na: 0\n"
     ]
    },
    {
     "data": {
      "image/png": "[encoded data removed]",
      "text/plain": [
       "<Figure size 432x288 with 1 Axes>"
      ]
     },
     "metadata": {
      "needs_background": "light"
     },
     "output_type": "display_data"
    },
    {
     "name": "stdout",
     "output_type": "stream",
     "text": [
      "\n",
      "total_rooms\n",
      "Example of values: [ 2.  6.  8. 11. 12. 15. 18. 19. 20. 21.]\n",
      "Min: 2.0 - Max: 39320.0 - Median: 3681.524199417758\n",
      "Nr of unique values: 5496 -  Max occurence: 15 - Min occurence: 1\n",
      "Number of na: 0\n"
     ]
    },
    {
     "data": {
      "image/png": "[encoded data removed]",
      "text/plain": [
       "<Figure size 432x288 with 1 Axes>"
      ]
     },
     "metadata": {
      "needs_background": "light"
     },
     "output_type": "display_data"
    },
    {
     "name": "stdout",
     "output_type": "stream",
     "text": [
      "\n",
      "total_bedrooms\n",
      "Example of values: [ 1.  2.  3.  4.  5.  6.  7.  8.  9. 10.]\n",
      "Min: 1.0 - Max: 6445.0 - Median: nan\n",
      "Nr of unique values: 1995 -  Max occurence: 48 - Min occurence: 1\n",
      "Number of na: 168\n"
     ]
    },
    {
     "data": {
      "image/png": "[encoded data removed]",
      "text/plain": [
       "<Figure size 432x288 with 1 Axes>"
      ]
     },
     "metadata": {
      "needs_background": "light"
     },
     "output_type": "display_data"
    },
    {
     "name": "stdout",
     "output_type": "stream",
     "text": [
      "\n",
      "population\n",
      "Example of values: [ 3.  5.  6.  8.  9. 11. 13. 14. 15. 17.]\n",
      "Min: 3.0 - Max: 35682.0 - Median: 2238.1895604395604\n",
      "Nr of unique values: 3640 -  Max occurence: 23 - Min occurence: 1\n",
      "Number of na: 0\n"
     ]
    },
    {
     "data": {
      "image/png": "[encoded data removed]",
      "text/plain": [
       "<Figure size 432x288 with 1 Axes>"
      ]
     },
     "metadata": {
      "needs_background": "light"
     },
     "output_type": "display_data"
    },
    {
     "name": "stdout",
     "output_type": "stream",
     "text": [
      "\n",
      "households\n",
      "Example of values: [ 1.  2.  3.  4.  5.  6.  7.  8.  9. 10.]\n",
      "Min: 1.0 - Max: 6082.0 - Median: 1001.4146767617938\n",
      "Nr of unique values: 1717 -  Max occurence: 49 - Min occurence: 1\n",
      "Number of na: 0\n"
     ]
    },
    {
     "data": {
      "image/png": "[encoded data removed]",
      "text/plain": [
       "<Figure size 432x288 with 1 Axes>"
      ]
     },
     "metadata": {
      "needs_background": "light"
     },
     "output_type": "display_data"
    },
    {
     "name": "stdout",
     "output_type": "stream",
     "text": [
      "\n",
      "median_income\n",
      "Example of values: [0.4999 0.536  0.5495 0.6433 0.6825 0.6991 0.7007 0.7025 0.7069 0.7075]\n",
      "Min: 0.4999 - Max: 15.0001 - Median: 4.10347061351376\n",
      "Nr of unique values: 10937 -  Max occurence: 41 - Min occurence: 1\n",
      "Number of na: 0\n"
     ]
    },
    {
     "data": {
      "image/png": "[encoded data removed]",
      "text/plain": [
       "<Figure size 432x288 with 1 Axes>"
      ]
     },
     "metadata": {
      "needs_background": "light"
     },
     "output_type": "display_data"
    },
    {
     "name": "stdout",
     "output_type": "stream",
     "text": [
      "\n",
      "ocean_proximity\n",
      "Example of values: ['<1H OCEAN' 'INLAND' 'ISLAND' 'NEAR BAY' 'NEAR OCEAN']\n"
     ]
    },
    {
     "ename": "TypeError",
     "evalue": "unsupported operand type(s) for /: 'str' and 'int'",
     "output_type": "error",
     "traceback": [
      "\u001b[0;31m---------------------------------------------------------------------------\u001b[0m",
      "\u001b[0;31mTypeError\u001b[0m                                 Traceback (most recent call last)",
      "\u001b[0;32m<ipython-input-24-80b23677296c>\u001b[0m in \u001b[0;36m<module>\u001b[0;34m\u001b[0m\n\u001b[1;32m      3\u001b[0m     \u001b[0munique\u001b[0m\u001b[0;34m,\u001b[0m \u001b[0mcount\u001b[0m \u001b[0;34m=\u001b[0m \u001b[0mnp\u001b[0m\u001b[0;34m.\u001b[0m\u001b[0munique\u001b[0m\u001b[0;34m(\u001b[0m\u001b[0mdata\u001b[0m\u001b[0;34m[\u001b[0m\u001b[0mcolumn\u001b[0m\u001b[0;34m]\u001b[0m\u001b[0;34m,\u001b[0m\u001b[0mreturn_counts\u001b[0m \u001b[0;34m=\u001b[0m \u001b[0;32mTrue\u001b[0m\u001b[0;34m)\u001b[0m\u001b[0;34m\u001b[0m\u001b[0;34m\u001b[0m\u001b[0m\n\u001b[1;32m      4\u001b[0m     \u001b[0mprint\u001b[0m\u001b[0;34m(\u001b[0m\u001b[0;34m\"Example of values: {}\"\u001b[0m\u001b[0;34m.\u001b[0m\u001b[0mformat\u001b[0m\u001b[0;34m(\u001b[0m\u001b[0munique\u001b[0m\u001b[0;34m[\u001b[0m\u001b[0;34m:\u001b[0m\u001b[0;36m10\u001b[0m\u001b[0;34m]\u001b[0m\u001b[0;34m)\u001b[0m\u001b[0;34m)\u001b[0m\u001b[0;34m\u001b[0m\u001b[0;34m\u001b[0m\u001b[0m\n\u001b[0;32m----> 5\u001b[0;31m     \u001b[0mprint\u001b[0m\u001b[0;34m(\u001b[0m\u001b[0;34m\"Min: {} - Max: {} - Median: {}\"\u001b[0m\u001b[0;34m.\u001b[0m\u001b[0mformat\u001b[0m\u001b[0;34m(\u001b[0m\u001b[0mmin\u001b[0m\u001b[0;34m(\u001b[0m\u001b[0munique\u001b[0m\u001b[0;34m)\u001b[0m\u001b[0;34m,\u001b[0m\u001b[0mmax\u001b[0m\u001b[0;34m(\u001b[0m\u001b[0munique\u001b[0m\u001b[0;34m)\u001b[0m\u001b[0;34m,\u001b[0m\u001b[0mnp\u001b[0m\u001b[0;34m.\u001b[0m\u001b[0mmean\u001b[0m\u001b[0;34m(\u001b[0m\u001b[0munique\u001b[0m\u001b[0;34m)\u001b[0m\u001b[0;34m)\u001b[0m\u001b[0;34m)\u001b[0m\u001b[0;34m\u001b[0m\u001b[0;34m\u001b[0m\u001b[0m\n\u001b[0m\u001b[1;32m      6\u001b[0m     \u001b[0mprint\u001b[0m\u001b[0;34m(\u001b[0m\u001b[0;34m\"Nr of unique values: {} -  Max occurence: {} - Min occurence: {}\"\u001b[0m\u001b[0;34m.\u001b[0m\u001b[0mformat\u001b[0m\u001b[0;34m(\u001b[0m\u001b[0mlen\u001b[0m\u001b[0;34m(\u001b[0m\u001b[0munique\u001b[0m\u001b[0;34m)\u001b[0m\u001b[0;34m,\u001b[0m\u001b[0mmax\u001b[0m\u001b[0;34m(\u001b[0m\u001b[0mcount\u001b[0m\u001b[0;34m)\u001b[0m\u001b[0;34m,\u001b[0m\u001b[0mmin\u001b[0m\u001b[0;34m(\u001b[0m\u001b[0mcount\u001b[0m\u001b[0;34m)\u001b[0m\u001b[0;34m)\u001b[0m \u001b[0;34m)\u001b[0m\u001b[0;34m\u001b[0m\u001b[0;34m\u001b[0m\u001b[0m\n\u001b[1;32m      7\u001b[0m     \u001b[0mprint\u001b[0m\u001b[0;34m(\u001b[0m\u001b[0;34m\"Number of na: {}\"\u001b[0m\u001b[0;34m.\u001b[0m\u001b[0mformat\u001b[0m\u001b[0;34m(\u001b[0m\u001b[0mdata\u001b[0m\u001b[0;34m[\u001b[0m\u001b[0mcolumn\u001b[0m\u001b[0;34m]\u001b[0m\u001b[0;34m.\u001b[0m\u001b[0misna\u001b[0m\u001b[0;34m(\u001b[0m\u001b[0;34m)\u001b[0m\u001b[0;34m.\u001b[0m\u001b[0msum\u001b[0m\u001b[0;34m(\u001b[0m\u001b[0;34m)\u001b[0m\u001b[0;34m)\u001b[0m\u001b[0;34m)\u001b[0m\u001b[0;34m\u001b[0m\u001b[0;34m\u001b[0m\u001b[0m\n",
      "\u001b[0;32m<__array_function__ internals>\u001b[0m in \u001b[0;36mmean\u001b[0;34m(*args, **kwargs)\u001b[0m\n",
      "\u001b[0;32m/vol/bitbucket/nuric/docenv/lib/python3.8/site-packages/numpy/core/fromnumeric.py\u001b[0m in \u001b[0;36mmean\u001b[0;34m(a, axis, dtype, out, keepdims)\u001b[0m\n\u001b[1;32m   3370\u001b[0m             \u001b[0;32mreturn\u001b[0m \u001b[0mmean\u001b[0m\u001b[0;34m(\u001b[0m\u001b[0maxis\u001b[0m\u001b[0;34m=\u001b[0m\u001b[0maxis\u001b[0m\u001b[0;34m,\u001b[0m \u001b[0mdtype\u001b[0m\u001b[0;34m=\u001b[0m\u001b[0mdtype\u001b[0m\u001b[0;34m,\u001b[0m \u001b[0mout\u001b[0m\u001b[0;34m=\u001b[0m\u001b[0mout\u001b[0m\u001b[0;34m,\u001b[0m \u001b[0;34m**\u001b[0m\u001b[0mkwargs\u001b[0m\u001b[0;34m)\u001b[0m\u001b[0;34m\u001b[0m\u001b[0;34m\u001b[0m\u001b[0m\n\u001b[1;32m   3371\u001b[0m \u001b[0;34m\u001b[0m\u001b[0m\n\u001b[0;32m-> 3372\u001b[0;31m     return _methods._mean(a, axis=axis, dtype=dtype,\n\u001b[0m\u001b[1;32m   3373\u001b[0m                           out=out, **kwargs)\n\u001b[1;32m   3374\u001b[0m \u001b[0;34m\u001b[0m\u001b[0m\n",
      "\u001b[0;32m/vol/bitbucket/nuric/docenv/lib/python3.8/site-packages/numpy/core/_methods.py\u001b[0m in \u001b[0;36m_mean\u001b[0;34m(a, axis, dtype, out, keepdims)\u001b[0m\n\u001b[1;32m    170\u001b[0m             \u001b[0mret\u001b[0m \u001b[0;34m=\u001b[0m \u001b[0mret\u001b[0m\u001b[0;34m.\u001b[0m\u001b[0mdtype\u001b[0m\u001b[0;34m.\u001b[0m\u001b[0mtype\u001b[0m\u001b[0;34m(\u001b[0m\u001b[0mret\u001b[0m \u001b[0;34m/\u001b[0m \u001b[0mrcount\u001b[0m\u001b[0;34m)\u001b[0m\u001b[0;34m\u001b[0m\u001b[0;34m\u001b[0m\u001b[0m\n\u001b[1;32m    171\u001b[0m     \u001b[0;32melse\u001b[0m\u001b[0;34m:\u001b[0m\u001b[0;34m\u001b[0m\u001b[0;34m\u001b[0m\u001b[0m\n\u001b[0;32m--> 172\u001b[0;31m         \u001b[0mret\u001b[0m \u001b[0;34m=\u001b[0m \u001b[0mret\u001b[0m \u001b[0;34m/\u001b[0m \u001b[0mrcount\u001b[0m\u001b[0;34m\u001b[0m\u001b[0;34m\u001b[0m\u001b[0m\n\u001b[0m\u001b[1;32m    173\u001b[0m \u001b[0;34m\u001b[0m\u001b[0m\n\u001b[1;32m    174\u001b[0m     \u001b[0;32mreturn\u001b[0m \u001b[0mret\u001b[0m\u001b[0;34m\u001b[0m\u001b[0;34m\u001b[0m\u001b[0m\n",
      "\u001b[0;31mTypeError\u001b[0m: unsupported operand type(s) for /: 'str' and 'int'"
     ]
    }
   ],
   "source": [
    "for column in data.columns:\n",
    "    print(column)\n",
    "    unique, count = np.unique(data[column],return_counts = True)\n",
    "    print(\"Example of values: {}\".format(unique[:10]))\n",
    "    print(\"Min: {} - Max: {} - Median: {}\".format(min(unique),max(unique),np.mean(unique)))\n",
    "    print(\"Nr of unique values: {} -  Max occurence: {} - Min occurence: {}\".format(len(unique),max(count),min(count)) )\n",
    "    print(\"Number of na: {}\".format(data[column].isna().sum()))\n",
    "    occurences,countcount = np.unique(count, return_counts= True)\n",
    "    plt.plot(occurences,countcount)\n",
    "    plt.show()\n",
    "    print()"
   ]
  },
  {
   "cell_type": "code",
   "execution_count": null,
   "metadata": {},
   "outputs": [],
   "source": []
  }
 ],
 "metadata": {
  "kernelspec": {
   "display_name": "Python 3",
   "language": "python",
   "name": "python3"
  },
  "language_info": {
   "codemirror_mode": {
    "name": "ipython",
    "version": 3
   },
   "file_extension": ".py",
   "mimetype": "text/x-python",
   "name": "python",
   "nbconvert_exporter": "python",
   "pygments_lexer": "ipython3",
   "version": "3.8.5"
  }
 },
 "nbformat": 4,
 "nbformat_minor": 4
}
