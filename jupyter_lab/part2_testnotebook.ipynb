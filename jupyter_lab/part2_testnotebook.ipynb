{
 "cells": [
  {
   "cell_type": "code",
   "execution_count": 26,
   "metadata": {},
   "outputs": [
    {
     "name": "stdout",
     "output_type": "stream",
     "text": [
      "The autoreload extension is already loaded. To reload it, use:\n",
      "  %reload_ext autoreload\n"
     ]
    }
   ],
   "source": [
    "import pandas as pd\n",
    "import numpy as np\n",
    "from part2_house_value_regression import *\n",
    "from matplotlib import pyplot as plt\n",
    "from sklearn.preprocessing import StandardScaler, LabelEncoder, LabelBinarizer\n",
    "from sklearn.model_selection import KFold\n",
    "import seaborn as sb\n",
    "from sklearn.model_selection import train_test_split\n",
    "import sys\n",
    "%load_ext autoreload\n",
    "%autoreload 2"
   ]
  },
  {
   "cell_type": "code",
   "execution_count": 45,
   "metadata": {},
   "outputs": [],
   "source": [
    "    kfold = KFold(n_splits = 10)\n",
    "    folds = kfold.split(np.arange(100))"
   ]
  },
  {
   "cell_type": "code",
   "execution_count": 39,
   "metadata": {},
   "outputs": [
    {
     "name": "stdout",
     "output_type": "stream",
     "text": [
      "0\n",
      "1\n",
      "2\n",
      "3\n",
      "4\n",
      "5\n",
      "6\n",
      "7\n",
      "8\n",
      "9\n"
     ]
    }
   ],
   "source": [
    "for i in range(5):\n",
    "\n",
    "    for fold, (train_index, val_index) in enumerate(folds):\n",
    "    \n",
    "        print(fold)"
   ]
  },
  {
   "cell_type": "code",
   "execution_count": 46,
   "metadata": {},
   "outputs": [
    {
     "data": {
      "text/plain": [
       "(array([10, 11, 12, 13, 14, 15, 16, 17, 18, 19, 20, 21, 22, 23, 24, 25, 26,\n",
       "        27, 28, 29, 30, 31, 32, 33, 34, 35, 36, 37, 38, 39, 40, 41, 42, 43,\n",
       "        44, 45, 46, 47, 48, 49, 50, 51, 52, 53, 54, 55, 56, 57, 58, 59, 60,\n",
       "        61, 62, 63, 64, 65, 66, 67, 68, 69, 70, 71, 72, 73, 74, 75, 76, 77,\n",
       "        78, 79, 80, 81, 82, 83, 84, 85, 86, 87, 88, 89, 90, 91, 92, 93, 94,\n",
       "        95, 96, 97, 98, 99]),\n",
       " array([0, 1, 2, 3, 4, 5, 6, 7, 8, 9]))"
      ]
     },
     "execution_count": 46,
     "metadata": {},
     "output_type": "execute_result"
    }
   ],
   "source": [
    "list(folds)[0]"
   ]
  },
  {
   "cell_type": "code",
   "execution_count": 20,
   "metadata": {},
   "outputs": [
    {
     "data": {
      "text/plain": [
       "array([ 0,  1,  2,  3,  4,  5,  6,  7,  8,  9, 10, 11, 12, 13, 14, 15, 16,\n",
       "       17, 18, 19])"
      ]
     },
     "execution_count": 20,
     "metadata": {},
     "output_type": "execute_result"
    }
   ],
   "source": [
    "a = np.arange(20)\n",
    "a"
   ]
  },
  {
   "cell_type": "code",
   "execution_count": 29,
   "metadata": {},
   "outputs": [
    {
     "data": {
      "text/plain": [
       "True"
      ]
     },
     "execution_count": 29,
     "metadata": {},
     "output_type": "execute_result"
    }
   ],
   "source": [
    "5 < np.inf"
   ]
  },
  {
   "cell_type": "code",
   "execution_count": 21,
   "metadata": {},
   "outputs": [
    {
     "data": {
      "text/plain": [
       "array([ 2.,  3.,  4.,  5.,  6.,  7.,  8.,  9., 10., 11., 12., 13., 14.,\n",
       "       15., 16., 17.])"
      ]
     },
     "execution_count": 21,
     "metadata": {},
     "output_type": "execute_result"
    }
   ],
   "source": [
    "np.convolve(a,np.ones(5)/5,mode = 'valid')"
   ]
  },
  {
   "cell_type": "code",
   "execution_count": 13,
   "metadata": {},
   "outputs": [
    {
     "data": {
      "text/plain": [
       "[array([49, 53, 89, 13, 80, 23, 76, 64, 94, 32, 26, 63, 42, 99, 96, 87, 82,\n",
       "        44,  4,  9, 25, 55, 75, 46, 67, 30, 43, 91, 33, 14,  6, 20, 95, 78,\n",
       "        48, 57, 85, 22, 11, 47, 27, 29, 21, 17, 54, 56, 34, 16, 65, 84, 92,\n",
       "         8, 98, 70, 15, 68, 40, 31,  3, 45, 58, 59, 38, 69,  5, 71, 86, 24,\n",
       "        74, 12, 37, 60, 79, 72, 62,  2,  7, 90, 81, 88]),\n",
       " array([52, 73, 39,  1,  0, 19, 18, 35, 41, 93, 77, 50, 10, 97, 66, 83, 51,\n",
       "        36, 61, 28])]"
      ]
     },
     "execution_count": 13,
     "metadata": {},
     "output_type": "execute_result"
    }
   ],
   "source": [
    "train_test_split(np.arange(100),train_size = 0.8)"
   ]
  },
  {
   "cell_type": "code",
   "execution_count": 2,
   "metadata": {},
   "outputs": [],
   "source": [
    "data = pd.read_csv(\"housing.csv\") "
   ]
  },
  {
   "cell_type": "code",
   "execution_count": 3,
   "metadata": {},
   "outputs": [],
   "source": [
    "    output_label = \"median_house_value\"\n",
    "\n",
    "    data = pd.read_csv(\"housing.csv\") \n",
    "    data = data.sample(frac = 1).reset_index(drop = True)\n",
    "    x = data.loc[:, data.columns != output_label]\n",
    "    y = data.loc[:, [output_label]]\n",
    "    \n",
    "    \n",
    "    x_train = x[2000:].reset_index(drop = True)\n",
    "    y_train = y[2000:].reset_index(drop = True)\n",
    "    x_test = x_train[0:2000].reset_index(drop = True)\n",
    "    y_test = y_train[:2000].reset_index(drop = True)"
   ]
  },
  {
   "cell_type": "code",
   "execution_count": 4,
   "metadata": {},
   "outputs": [],
   "source": [
    "    \n",
    "    kfold = KFold(n_splits = 5)\n",
    "    folds = kfold.split(np.arange(x.shape[0]))"
   ]
  },
  {
   "cell_type": "code",
   "execution_count": null,
   "metadata": {},
   "outputs": [],
   "source": []
  },
  {
   "cell_type": "code",
   "execution_count": 8,
   "metadata": {},
   "outputs": [
    {
     "data": {
      "text/html": [
       "<div>\n",
       "<style scoped>\n",
       "    .dataframe tbody tr th:only-of-type {\n",
       "        vertical-align: middle;\n",
       "    }\n",
       "\n",
       "    .dataframe tbody tr th {\n",
       "        vertical-align: top;\n",
       "    }\n",
       "\n",
       "    .dataframe thead th {\n",
       "        text-align: right;\n",
       "    }\n",
       "</style>\n",
       "<table border=\"1\" class=\"dataframe\">\n",
       "  <thead>\n",
       "    <tr style=\"text-align: right;\">\n",
       "      <th></th>\n",
       "      <th>longitude</th>\n",
       "      <th>latitude</th>\n",
       "      <th>housing_median_age</th>\n",
       "      <th>total_rooms</th>\n",
       "      <th>total_bedrooms</th>\n",
       "      <th>population</th>\n",
       "      <th>households</th>\n",
       "      <th>median_income</th>\n",
       "      <th>ocean_proximity</th>\n",
       "    </tr>\n",
       "  </thead>\n",
       "  <tbody>\n",
       "    <tr>\n",
       "      <th>5</th>\n",
       "      <td>-117.95</td>\n",
       "      <td>33.74</td>\n",
       "      <td>25.0</td>\n",
       "      <td>1393.0</td>\n",
       "      <td>243.0</td>\n",
       "      <td>976.0</td>\n",
       "      <td>245.0</td>\n",
       "      <td>5.4485</td>\n",
       "      <td>&lt;1H OCEAN</td>\n",
       "    </tr>\n",
       "    <tr>\n",
       "      <th>6</th>\n",
       "      <td>-121.82</td>\n",
       "      <td>37.23</td>\n",
       "      <td>23.0</td>\n",
       "      <td>4487.0</td>\n",
       "      <td>584.0</td>\n",
       "      <td>2024.0</td>\n",
       "      <td>580.0</td>\n",
       "      <td>7.5218</td>\n",
       "      <td>&lt;1H OCEAN</td>\n",
       "    </tr>\n",
       "  </tbody>\n",
       "</table>\n",
       "</div>"
      ],
      "text/plain": [
       "   longitude  latitude  housing_median_age  total_rooms  total_bedrooms  \\\n",
       "5    -117.95     33.74                25.0       1393.0           243.0   \n",
       "6    -121.82     37.23                23.0       4487.0           584.0   \n",
       "\n",
       "   population  households  median_income ocean_proximity  \n",
       "5       976.0       245.0         5.4485       <1H OCEAN  \n",
       "6      2024.0       580.0         7.5218       <1H OCEAN  "
      ]
     },
     "execution_count": 8,
     "metadata": {},
     "output_type": "execute_result"
    }
   ],
   "source": [
    "x.iloc[[5,6]]"
   ]
  },
  {
   "cell_type": "code",
   "execution_count": 41,
   "metadata": {},
   "outputs": [
    {
     "data": {
      "text/html": [
       "<div>\n",
       "<style scoped>\n",
       "    .dataframe tbody tr th:only-of-type {\n",
       "        vertical-align: middle;\n",
       "    }\n",
       "\n",
       "    .dataframe tbody tr th {\n",
       "        vertical-align: top;\n",
       "    }\n",
       "\n",
       "    .dataframe thead th {\n",
       "        text-align: right;\n",
       "    }\n",
       "</style>\n",
       "<table border=\"1\" class=\"dataframe\">\n",
       "  <thead>\n",
       "    <tr style=\"text-align: right;\">\n",
       "      <th></th>\n",
       "      <th>longitude</th>\n",
       "      <th>latitude</th>\n",
       "      <th>housing_median_age</th>\n",
       "      <th>total_rooms</th>\n",
       "      <th>total_bedrooms</th>\n",
       "      <th>population</th>\n",
       "      <th>households</th>\n",
       "      <th>median_income</th>\n",
       "      <th>ocean_proximity</th>\n",
       "      <th>median_house_value</th>\n",
       "    </tr>\n",
       "  </thead>\n",
       "  <tbody>\n",
       "    <tr>\n",
       "      <th>0</th>\n",
       "      <td>-117.61</td>\n",
       "      <td>34.13</td>\n",
       "      <td>21.0</td>\n",
       "      <td>8416.0</td>\n",
       "      <td>1386.0</td>\n",
       "      <td>4308.0</td>\n",
       "      <td>1341.0</td>\n",
       "      <td>4.4611</td>\n",
       "      <td>INLAND</td>\n",
       "      <td>164600.0</td>\n",
       "    </tr>\n",
       "    <tr>\n",
       "      <th>1</th>\n",
       "      <td>-117.37</td>\n",
       "      <td>33.98</td>\n",
       "      <td>52.0</td>\n",
       "      <td>201.0</td>\n",
       "      <td>44.0</td>\n",
       "      <td>130.0</td>\n",
       "      <td>24.0</td>\n",
       "      <td>2.0250</td>\n",
       "      <td>INLAND</td>\n",
       "      <td>125000.0</td>\n",
       "    </tr>\n",
       "    <tr>\n",
       "      <th>2</th>\n",
       "      <td>-118.34</td>\n",
       "      <td>33.89</td>\n",
       "      <td>36.0</td>\n",
       "      <td>2274.0</td>\n",
       "      <td>411.0</td>\n",
       "      <td>1232.0</td>\n",
       "      <td>423.0</td>\n",
       "      <td>5.3730</td>\n",
       "      <td>&lt;1H OCEAN</td>\n",
       "      <td>244500.0</td>\n",
       "    </tr>\n",
       "    <tr>\n",
       "      <th>3</th>\n",
       "      <td>-118.92</td>\n",
       "      <td>35.13</td>\n",
       "      <td>29.0</td>\n",
       "      <td>1297.0</td>\n",
       "      <td>262.0</td>\n",
       "      <td>909.0</td>\n",
       "      <td>253.0</td>\n",
       "      <td>1.9236</td>\n",
       "      <td>INLAND</td>\n",
       "      <td>106300.0</td>\n",
       "    </tr>\n",
       "    <tr>\n",
       "      <th>4</th>\n",
       "      <td>-121.80</td>\n",
       "      <td>37.23</td>\n",
       "      <td>18.0</td>\n",
       "      <td>3179.0</td>\n",
       "      <td>526.0</td>\n",
       "      <td>1663.0</td>\n",
       "      <td>507.0</td>\n",
       "      <td>5.9225</td>\n",
       "      <td>&lt;1H OCEAN</td>\n",
       "      <td>265800.0</td>\n",
       "    </tr>\n",
       "    <tr>\n",
       "      <th>...</th>\n",
       "      <td>...</td>\n",
       "      <td>...</td>\n",
       "      <td>...</td>\n",
       "      <td>...</td>\n",
       "      <td>...</td>\n",
       "      <td>...</td>\n",
       "      <td>...</td>\n",
       "      <td>...</td>\n",
       "      <td>...</td>\n",
       "      <td>...</td>\n",
       "    </tr>\n",
       "    <tr>\n",
       "      <th>16507</th>\n",
       "      <td>-119.53</td>\n",
       "      <td>36.55</td>\n",
       "      <td>34.0</td>\n",
       "      <td>2065.0</td>\n",
       "      <td>343.0</td>\n",
       "      <td>1041.0</td>\n",
       "      <td>313.0</td>\n",
       "      <td>3.2917</td>\n",
       "      <td>INLAND</td>\n",
       "      <td>111500.0</td>\n",
       "    </tr>\n",
       "    <tr>\n",
       "      <th>16508</th>\n",
       "      <td>-122.40</td>\n",
       "      <td>37.73</td>\n",
       "      <td>50.0</td>\n",
       "      <td>1947.0</td>\n",
       "      <td>411.0</td>\n",
       "      <td>1170.0</td>\n",
       "      <td>384.0</td>\n",
       "      <td>3.4769</td>\n",
       "      <td>NEAR BAY</td>\n",
       "      <td>238700.0</td>\n",
       "    </tr>\n",
       "    <tr>\n",
       "      <th>16509</th>\n",
       "      <td>-118.41</td>\n",
       "      <td>33.92</td>\n",
       "      <td>29.0</td>\n",
       "      <td>1436.0</td>\n",
       "      <td>401.0</td>\n",
       "      <td>674.0</td>\n",
       "      <td>343.0</td>\n",
       "      <td>3.6389</td>\n",
       "      <td>&lt;1H OCEAN</td>\n",
       "      <td>275000.0</td>\n",
       "    </tr>\n",
       "    <tr>\n",
       "      <th>16510</th>\n",
       "      <td>-117.08</td>\n",
       "      <td>32.62</td>\n",
       "      <td>36.0</td>\n",
       "      <td>1674.0</td>\n",
       "      <td>309.0</td>\n",
       "      <td>818.0</td>\n",
       "      <td>307.0</td>\n",
       "      <td>3.4773</td>\n",
       "      <td>NEAR OCEAN</td>\n",
       "      <td>150400.0</td>\n",
       "    </tr>\n",
       "    <tr>\n",
       "      <th>16511</th>\n",
       "      <td>-117.05</td>\n",
       "      <td>32.72</td>\n",
       "      <td>35.0</td>\n",
       "      <td>3669.0</td>\n",
       "      <td>617.0</td>\n",
       "      <td>1694.0</td>\n",
       "      <td>585.0</td>\n",
       "      <td>3.9485</td>\n",
       "      <td>NEAR OCEAN</td>\n",
       "      <td>133900.0</td>\n",
       "    </tr>\n",
       "  </tbody>\n",
       "</table>\n",
       "<p>16512 rows × 10 columns</p>\n",
       "</div>"
      ],
      "text/plain": [
       "       longitude  latitude  housing_median_age  total_rooms  total_bedrooms  \\\n",
       "0        -117.61     34.13                21.0       8416.0          1386.0   \n",
       "1        -117.37     33.98                52.0        201.0            44.0   \n",
       "2        -118.34     33.89                36.0       2274.0           411.0   \n",
       "3        -118.92     35.13                29.0       1297.0           262.0   \n",
       "4        -121.80     37.23                18.0       3179.0           526.0   \n",
       "...          ...       ...                 ...          ...             ...   \n",
       "16507    -119.53     36.55                34.0       2065.0           343.0   \n",
       "16508    -122.40     37.73                50.0       1947.0           411.0   \n",
       "16509    -118.41     33.92                29.0       1436.0           401.0   \n",
       "16510    -117.08     32.62                36.0       1674.0           309.0   \n",
       "16511    -117.05     32.72                35.0       3669.0           617.0   \n",
       "\n",
       "       population  households  median_income ocean_proximity  \\\n",
       "0          4308.0      1341.0         4.4611          INLAND   \n",
       "1           130.0        24.0         2.0250          INLAND   \n",
       "2          1232.0       423.0         5.3730       <1H OCEAN   \n",
       "3           909.0       253.0         1.9236          INLAND   \n",
       "4          1663.0       507.0         5.9225       <1H OCEAN   \n",
       "...           ...         ...            ...             ...   \n",
       "16507      1041.0       313.0         3.2917          INLAND   \n",
       "16508      1170.0       384.0         3.4769        NEAR BAY   \n",
       "16509       674.0       343.0         3.6389       <1H OCEAN   \n",
       "16510       818.0       307.0         3.4773      NEAR OCEAN   \n",
       "16511      1694.0       585.0         3.9485      NEAR OCEAN   \n",
       "\n",
       "       median_house_value  \n",
       "0                164600.0  \n",
       "1                125000.0  \n",
       "2                244500.0  \n",
       "3                106300.0  \n",
       "4                265800.0  \n",
       "...                   ...  \n",
       "16507            111500.0  \n",
       "16508            238700.0  \n",
       "16509            275000.0  \n",
       "16510            150400.0  \n",
       "16511            133900.0  \n",
       "\n",
       "[16512 rows x 10 columns]"
      ]
     },
     "execution_count": 41,
     "metadata": {},
     "output_type": "execute_result"
    }
   ],
   "source": [
    "data"
   ]
  },
  {
   "cell_type": "code",
   "execution_count": 46,
   "metadata": {},
   "outputs": [],
   "source": [
    "output_label = \"median_house_value\"\n",
    "x = data.loc[:, data.columns != output_label]\n",
    "y = data.loc[:, [output_label]]"
   ]
  },
  {
   "cell_type": "code",
   "execution_count": 50,
   "metadata": {},
   "outputs": [
    {
     "data": {
      "text/html": [
       "<div>\n",
       "<style scoped>\n",
       "    .dataframe tbody tr th:only-of-type {\n",
       "        vertical-align: middle;\n",
       "    }\n",
       "\n",
       "    .dataframe tbody tr th {\n",
       "        vertical-align: top;\n",
       "    }\n",
       "\n",
       "    .dataframe thead th {\n",
       "        text-align: right;\n",
       "    }\n",
       "</style>\n",
       "<table border=\"1\" class=\"dataframe\">\n",
       "  <thead>\n",
       "    <tr style=\"text-align: right;\">\n",
       "      <th></th>\n",
       "      <th>longitude</th>\n",
       "      <th>latitude</th>\n",
       "      <th>housing_median_age</th>\n",
       "      <th>total_rooms</th>\n",
       "      <th>total_bedrooms</th>\n",
       "      <th>population</th>\n",
       "      <th>households</th>\n",
       "      <th>median_income</th>\n",
       "      <th>ocean_proximity</th>\n",
       "    </tr>\n",
       "  </thead>\n",
       "  <tbody>\n",
       "    <tr>\n",
       "      <th>0</th>\n",
       "      <td>-117.61</td>\n",
       "      <td>34.13</td>\n",
       "      <td>21.0</td>\n",
       "      <td>8416.0</td>\n",
       "      <td>1386.0</td>\n",
       "      <td>4308.0</td>\n",
       "      <td>1341.0</td>\n",
       "      <td>4.4611</td>\n",
       "      <td>INLAND</td>\n",
       "    </tr>\n",
       "    <tr>\n",
       "      <th>1</th>\n",
       "      <td>-117.37</td>\n",
       "      <td>33.98</td>\n",
       "      <td>52.0</td>\n",
       "      <td>201.0</td>\n",
       "      <td>44.0</td>\n",
       "      <td>130.0</td>\n",
       "      <td>24.0</td>\n",
       "      <td>2.0250</td>\n",
       "      <td>INLAND</td>\n",
       "    </tr>\n",
       "    <tr>\n",
       "      <th>2</th>\n",
       "      <td>-118.34</td>\n",
       "      <td>33.89</td>\n",
       "      <td>36.0</td>\n",
       "      <td>2274.0</td>\n",
       "      <td>411.0</td>\n",
       "      <td>1232.0</td>\n",
       "      <td>423.0</td>\n",
       "      <td>5.3730</td>\n",
       "      <td>&lt;1H OCEAN</td>\n",
       "    </tr>\n",
       "    <tr>\n",
       "      <th>3</th>\n",
       "      <td>-118.92</td>\n",
       "      <td>35.13</td>\n",
       "      <td>29.0</td>\n",
       "      <td>1297.0</td>\n",
       "      <td>262.0</td>\n",
       "      <td>909.0</td>\n",
       "      <td>253.0</td>\n",
       "      <td>1.9236</td>\n",
       "      <td>INLAND</td>\n",
       "    </tr>\n",
       "    <tr>\n",
       "      <th>4</th>\n",
       "      <td>-121.80</td>\n",
       "      <td>37.23</td>\n",
       "      <td>18.0</td>\n",
       "      <td>3179.0</td>\n",
       "      <td>526.0</td>\n",
       "      <td>1663.0</td>\n",
       "      <td>507.0</td>\n",
       "      <td>5.9225</td>\n",
       "      <td>&lt;1H OCEAN</td>\n",
       "    </tr>\n",
       "    <tr>\n",
       "      <th>...</th>\n",
       "      <td>...</td>\n",
       "      <td>...</td>\n",
       "      <td>...</td>\n",
       "      <td>...</td>\n",
       "      <td>...</td>\n",
       "      <td>...</td>\n",
       "      <td>...</td>\n",
       "      <td>...</td>\n",
       "      <td>...</td>\n",
       "    </tr>\n",
       "    <tr>\n",
       "      <th>16507</th>\n",
       "      <td>-119.53</td>\n",
       "      <td>36.55</td>\n",
       "      <td>34.0</td>\n",
       "      <td>2065.0</td>\n",
       "      <td>343.0</td>\n",
       "      <td>1041.0</td>\n",
       "      <td>313.0</td>\n",
       "      <td>3.2917</td>\n",
       "      <td>INLAND</td>\n",
       "    </tr>\n",
       "    <tr>\n",
       "      <th>16508</th>\n",
       "      <td>-122.40</td>\n",
       "      <td>37.73</td>\n",
       "      <td>50.0</td>\n",
       "      <td>1947.0</td>\n",
       "      <td>411.0</td>\n",
       "      <td>1170.0</td>\n",
       "      <td>384.0</td>\n",
       "      <td>3.4769</td>\n",
       "      <td>NEAR BAY</td>\n",
       "    </tr>\n",
       "    <tr>\n",
       "      <th>16509</th>\n",
       "      <td>-118.41</td>\n",
       "      <td>33.92</td>\n",
       "      <td>29.0</td>\n",
       "      <td>1436.0</td>\n",
       "      <td>401.0</td>\n",
       "      <td>674.0</td>\n",
       "      <td>343.0</td>\n",
       "      <td>3.6389</td>\n",
       "      <td>&lt;1H OCEAN</td>\n",
       "    </tr>\n",
       "    <tr>\n",
       "      <th>16510</th>\n",
       "      <td>-117.08</td>\n",
       "      <td>32.62</td>\n",
       "      <td>36.0</td>\n",
       "      <td>1674.0</td>\n",
       "      <td>309.0</td>\n",
       "      <td>818.0</td>\n",
       "      <td>307.0</td>\n",
       "      <td>3.4773</td>\n",
       "      <td>NEAR OCEAN</td>\n",
       "    </tr>\n",
       "    <tr>\n",
       "      <th>16511</th>\n",
       "      <td>-117.05</td>\n",
       "      <td>32.72</td>\n",
       "      <td>35.0</td>\n",
       "      <td>3669.0</td>\n",
       "      <td>617.0</td>\n",
       "      <td>1694.0</td>\n",
       "      <td>585.0</td>\n",
       "      <td>3.9485</td>\n",
       "      <td>NEAR OCEAN</td>\n",
       "    </tr>\n",
       "  </tbody>\n",
       "</table>\n",
       "<p>16512 rows × 9 columns</p>\n",
       "</div>"
      ],
      "text/plain": [
       "       longitude  latitude  housing_median_age  total_rooms  total_bedrooms  \\\n",
       "0        -117.61     34.13                21.0       8416.0          1386.0   \n",
       "1        -117.37     33.98                52.0        201.0            44.0   \n",
       "2        -118.34     33.89                36.0       2274.0           411.0   \n",
       "3        -118.92     35.13                29.0       1297.0           262.0   \n",
       "4        -121.80     37.23                18.0       3179.0           526.0   \n",
       "...          ...       ...                 ...          ...             ...   \n",
       "16507    -119.53     36.55                34.0       2065.0           343.0   \n",
       "16508    -122.40     37.73                50.0       1947.0           411.0   \n",
       "16509    -118.41     33.92                29.0       1436.0           401.0   \n",
       "16510    -117.08     32.62                36.0       1674.0           309.0   \n",
       "16511    -117.05     32.72                35.0       3669.0           617.0   \n",
       "\n",
       "       population  households  median_income ocean_proximity  \n",
       "0          4308.0      1341.0         4.4611          INLAND  \n",
       "1           130.0        24.0         2.0250          INLAND  \n",
       "2          1232.0       423.0         5.3730       <1H OCEAN  \n",
       "3           909.0       253.0         1.9236          INLAND  \n",
       "4          1663.0       507.0         5.9225       <1H OCEAN  \n",
       "...           ...         ...            ...             ...  \n",
       "16507      1041.0       313.0         3.2917          INLAND  \n",
       "16508      1170.0       384.0         3.4769        NEAR BAY  \n",
       "16509       674.0       343.0         3.6389       <1H OCEAN  \n",
       "16510       818.0       307.0         3.4773      NEAR OCEAN  \n",
       "16511      1694.0       585.0         3.9485      NEAR OCEAN  \n",
       "\n",
       "[16512 rows x 9 columns]"
      ]
     },
     "execution_count": 50,
     "metadata": {},
     "output_type": "execute_result"
    }
   ],
   "source": [
    "x"
   ]
  },
  {
   "cell_type": "code",
   "execution_count": 57,
   "metadata": {},
   "outputs": [
    {
     "data": {
      "text/html": [
       "<div>\n",
       "<style scoped>\n",
       "    .dataframe tbody tr th:only-of-type {\n",
       "        vertical-align: middle;\n",
       "    }\n",
       "\n",
       "    .dataframe tbody tr th {\n",
       "        vertical-align: top;\n",
       "    }\n",
       "\n",
       "    .dataframe thead th {\n",
       "        text-align: right;\n",
       "    }\n",
       "</style>\n",
       "<table border=\"1\" class=\"dataframe\">\n",
       "  <thead>\n",
       "    <tr style=\"text-align: right;\">\n",
       "      <th></th>\n",
       "      <th>longitude</th>\n",
       "      <th>latitude</th>\n",
       "      <th>housing_median_age</th>\n",
       "      <th>total_rooms</th>\n",
       "      <th>total_bedrooms</th>\n",
       "      <th>population</th>\n",
       "      <th>households</th>\n",
       "      <th>median_income</th>\n",
       "    </tr>\n",
       "  </thead>\n",
       "  <tbody>\n",
       "    <tr>\n",
       "      <th>count</th>\n",
       "      <td>16512.00000</td>\n",
       "      <td>16512.000000</td>\n",
       "      <td>16512.000000</td>\n",
       "      <td>16512.000000</td>\n",
       "      <td>16344.000000</td>\n",
       "      <td>16512.000000</td>\n",
       "      <td>16512.000000</td>\n",
       "      <td>16512.00000</td>\n",
       "    </tr>\n",
       "    <tr>\n",
       "      <th>mean</th>\n",
       "      <td>-119.55943</td>\n",
       "      <td>35.617896</td>\n",
       "      <td>28.669331</td>\n",
       "      <td>2639.225654</td>\n",
       "      <td>538.522026</td>\n",
       "      <td>1425.169513</td>\n",
       "      <td>499.902616</td>\n",
       "      <td>3.87329</td>\n",
       "    </tr>\n",
       "    <tr>\n",
       "      <th>std</th>\n",
       "      <td>2.00348</td>\n",
       "      <td>2.134056</td>\n",
       "      <td>12.615046</td>\n",
       "      <td>2198.453859</td>\n",
       "      <td>425.256071</td>\n",
       "      <td>1147.038029</td>\n",
       "      <td>385.367776</td>\n",
       "      <td>1.91235</td>\n",
       "    </tr>\n",
       "    <tr>\n",
       "      <th>min</th>\n",
       "      <td>-124.35000</td>\n",
       "      <td>32.540000</td>\n",
       "      <td>1.000000</td>\n",
       "      <td>2.000000</td>\n",
       "      <td>1.000000</td>\n",
       "      <td>3.000000</td>\n",
       "      <td>1.000000</td>\n",
       "      <td>0.49990</td>\n",
       "    </tr>\n",
       "    <tr>\n",
       "      <th>25%</th>\n",
       "      <td>-121.78250</td>\n",
       "      <td>33.930000</td>\n",
       "      <td>18.000000</td>\n",
       "      <td>1446.000000</td>\n",
       "      <td>295.000000</td>\n",
       "      <td>788.000000</td>\n",
       "      <td>279.000000</td>\n",
       "      <td>2.56250</td>\n",
       "    </tr>\n",
       "    <tr>\n",
       "      <th>50%</th>\n",
       "      <td>-118.49000</td>\n",
       "      <td>34.250000</td>\n",
       "      <td>29.000000</td>\n",
       "      <td>2122.000000</td>\n",
       "      <td>435.000000</td>\n",
       "      <td>1165.000000</td>\n",
       "      <td>410.000000</td>\n",
       "      <td>3.53410</td>\n",
       "    </tr>\n",
       "    <tr>\n",
       "      <th>75%</th>\n",
       "      <td>-118.00000</td>\n",
       "      <td>37.710000</td>\n",
       "      <td>37.000000</td>\n",
       "      <td>3143.000000</td>\n",
       "      <td>647.000000</td>\n",
       "      <td>1718.000000</td>\n",
       "      <td>604.000000</td>\n",
       "      <td>4.73975</td>\n",
       "    </tr>\n",
       "    <tr>\n",
       "      <th>max</th>\n",
       "      <td>-114.31000</td>\n",
       "      <td>41.950000</td>\n",
       "      <td>52.000000</td>\n",
       "      <td>39320.000000</td>\n",
       "      <td>6445.000000</td>\n",
       "      <td>35682.000000</td>\n",
       "      <td>6082.000000</td>\n",
       "      <td>15.00010</td>\n",
       "    </tr>\n",
       "  </tbody>\n",
       "</table>\n",
       "</div>"
      ],
      "text/plain": [
       "         longitude      latitude  housing_median_age   total_rooms  \\\n",
       "count  16512.00000  16512.000000        16512.000000  16512.000000   \n",
       "mean    -119.55943     35.617896           28.669331   2639.225654   \n",
       "std        2.00348      2.134056           12.615046   2198.453859   \n",
       "min     -124.35000     32.540000            1.000000      2.000000   \n",
       "25%     -121.78250     33.930000           18.000000   1446.000000   \n",
       "50%     -118.49000     34.250000           29.000000   2122.000000   \n",
       "75%     -118.00000     37.710000           37.000000   3143.000000   \n",
       "max     -114.31000     41.950000           52.000000  39320.000000   \n",
       "\n",
       "       total_bedrooms    population    households  median_income  \n",
       "count    16344.000000  16512.000000  16512.000000    16512.00000  \n",
       "mean       538.522026   1425.169513    499.902616        3.87329  \n",
       "std        425.256071   1147.038029    385.367776        1.91235  \n",
       "min          1.000000      3.000000      1.000000        0.49990  \n",
       "25%        295.000000    788.000000    279.000000        2.56250  \n",
       "50%        435.000000   1165.000000    410.000000        3.53410  \n",
       "75%        647.000000   1718.000000    604.000000        4.73975  \n",
       "max       6445.000000  35682.000000   6082.000000       15.00010  "
      ]
     },
     "execution_count": 57,
     "metadata": {},
     "output_type": "execute_result"
    }
   ],
   "source": [
    "x.describe()"
   ]
  },
  {
   "cell_type": "code",
   "execution_count": 60,
   "metadata": {},
   "outputs": [
    {
     "data": {
      "image/png": "[encoded data removed]",
      "text/plain": [
       "<Figure size 864x720 with 9 Axes>"
      ]
     },
     "metadata": {
      "needs_background": "light"
     },
     "output_type": "display_data"
    }
   ],
   "source": [
    "x.hist(figsize = (12,10))\n",
    "plt.show()"
   ]
  },
  {
   "cell_type": "code",
   "execution_count": 49,
   "metadata": {},
   "outputs": [],
   "source": [
    "corr_mat = x.corr()"
   ]
  },
  {
   "cell_type": "code",
   "execution_count": 53,
   "metadata": {},
   "outputs": [
    {
     "data": {
      "text/plain": [
       "<AxesSubplot:>"
      ]
     },
     "execution_count": 53,
     "metadata": {},
     "output_type": "execute_result"
    },
    {
     "data": {
      "image/png": "[encoded data removed]",
      "text/plain": [
       "<Figure size 648x648 with 2 Axes>"
      ]
     },
     "metadata": {
      "needs_background": "light"
     },
     "output_type": "display_data"
    }
   ],
   "source": [
    "fig = plt.figure(figsize = (9,9))\n",
    "sb.heatmap(corr_mat,vmax = 1, square = True)"
   ]
  },
  {
   "cell_type": "code",
   "execution_count": null,
   "metadata": {},
   "outputs": [],
   "source": []
  },
  {
   "cell_type": "code",
   "execution_count": 54,
   "metadata": {},
   "outputs": [],
   "source": [
    "regressor = Regressor(x)"
   ]
  },
  {
   "cell_type": "code",
   "execution_count": 55,
   "metadata": {},
   "outputs": [
    {
     "data": {
      "text/plain": [
       "torch.Size([16512, 12])"
      ]
     },
     "execution_count": 55,
     "metadata": {},
     "output_type": "execute_result"
    }
   ],
   "source": [
    "regressor.X.shape"
   ]
  },
  {
   "cell_type": "code",
   "execution_count": 56,
   "metadata": {},
   "outputs": [
    {
     "data": {
      "text/plain": [
       "tensor([[ 0.9731, -0.6972, -0.6080,  ...,  1.0000,  0.0000,  0.0000],\n",
       "        [ 1.0928, -0.7675,  1.8495,  ...,  1.0000,  0.0000,  0.0000],\n",
       "        [ 0.6087, -0.8097,  0.5811,  ...,  0.0000,  0.0000,  0.0000],\n",
       "        ...,\n",
       "        [ 0.5737, -0.7956,  0.0262,  ...,  0.0000,  0.0000,  0.0000],\n",
       "        [ 1.2376, -1.4048,  0.5811,  ...,  0.0000,  0.0000,  0.0000],\n",
       "        [ 1.2526, -1.3580,  0.5018,  ...,  0.0000,  0.0000,  0.0000]])"
      ]
     },
     "execution_count": 56,
     "metadata": {},
     "output_type": "execute_result"
    }
   ],
   "source": [
    "regressor.X"
   ]
  },
  {
   "cell_type": "code",
   "execution_count": 14,
   "metadata": {},
   "outputs": [
    {
     "data": {
      "text/plain": [
       "tensor([ 1.0000,  0.9731, -0.6972, -0.6080,  2.6277,  2.0031,  2.5134,  2.1826,\n",
       "         0.3074])"
      ]
     },
     "execution_count": 14,
     "metadata": {},
     "output_type": "execute_result"
    }
   ],
   "source": [
    "regressor.X[0,:]"
   ]
  },
  {
   "cell_type": "code",
   "execution_count": 24,
   "metadata": {},
   "outputs": [
    {
     "name": "stdout",
     "output_type": "stream",
     "text": [
      "longitude\n",
      "Example of values: [-124.35 -124.3  -124.27 -124.26 -124.25 -124.23 -124.22 -124.21 -124.19\n",
      " -124.18]\n",
      "Min: -124.35 - Max: -114.31 - Median: -119.68783353733168\n",
      "Nr of unique values: 817 -  Max occurence: 138 - Min occurence: 1\n",
      "Number of na: 0\n"
     ]
    },
    {
     "data": {
      "image/png": "[encoded data removed]",
      "text/plain": [
       "<Figure size 432x288 with 1 Axes>"
      ]
     },
     "metadata": {
      "needs_background": "light"
     },
     "output_type": "display_data"
    },
    {
     "name": "stdout",
     "output_type": "stream",
     "text": [
      "\n",
      "latitude\n",
      "Example of values: [32.54 32.55 32.56 32.57 32.58 32.59 32.6  32.61 32.62 32.63]\n",
      "Min: 32.54 - Max: 41.95 - Median: 36.96072705601907\n",
      "Nr of unique values: 839 -  Max occurence: 200 - Min occurence: 1\n",
      "Number of na: 0\n"
     ]
    },
    {
     "data": {
      "image/png": "[encoded data removed]",
      "text/plain": [
       "<Figure size 432x288 with 1 Axes>"
      ]
     },
     "metadata": {
      "needs_background": "light"
     },
     "output_type": "display_data"
    },
    {
     "name": "stdout",
     "output_type": "stream",
     "text": [
      "\n",
      "housing_median_age\n",
      "Example of values: [ 1.  2.  3.  4.  5.  6.  7.  8.  9. 10.]\n",
      "Min: 1.0 - Max: 52.0 - Median: 26.5\n",
      "Nr of unique values: 52 -  Max occurence: 1021 - Min occurence: 4\n",
      "Number of na: 0\n"
     ]
    },
    {
     "data": {
      "image/png": "[encoded data removed]",
      "text/plain": [
       "<Figure size 432x288 with 1 Axes>"
      ]
     },
     "metadata": {
      "needs_background": "light"
     },
     "output_type": "display_data"
    },
    {
     "name": "stdout",
     "output_type": "stream",
     "text": [
      "\n",
      "total_rooms\n",
      "Example of values: [ 2.  6.  8. 11. 12. 15. 18. 19. 20. 21.]\n",
      "Min: 2.0 - Max: 39320.0 - Median: 3681.524199417758\n",
      "Nr of unique values: 5496 -  Max occurence: 15 - Min occurence: 1\n",
      "Number of na: 0\n"
     ]
    },
    {
     "data": {
      "image/png": "[encoded data removed]",
      "text/plain": [
       "<Figure size 432x288 with 1 Axes>"
      ]
     },
     "metadata": {
      "needs_background": "light"
     },
     "output_type": "display_data"
    },
    {
     "name": "stdout",
     "output_type": "stream",
     "text": [
      "\n",
      "total_bedrooms\n",
      "Example of values: [ 1.  2.  3.  4.  5.  6.  7.  8.  9. 10.]\n",
      "Min: 1.0 - Max: 6445.0 - Median: nan\n",
      "Nr of unique values: 1995 -  Max occurence: 48 - Min occurence: 1\n",
      "Number of na: 168\n"
     ]
    },
    {
     "data": {
      "image/png": "[encoded data removed]",
      "text/plain": [
       "<Figure size 432x288 with 1 Axes>"
      ]
     },
     "metadata": {
      "needs_background": "light"
     },
     "output_type": "display_data"
    },
    {
     "name": "stdout",
     "output_type": "stream",
     "text": [
      "\n",
      "population\n",
      "Example of values: [ 3.  5.  6.  8.  9. 11. 13. 14. 15. 17.]\n",
      "Min: 3.0 - Max: 35682.0 - Median: 2238.1895604395604\n",
      "Nr of unique values: 3640 -  Max occurence: 23 - Min occurence: 1\n",
      "Number of na: 0\n"
     ]
    },
    {
     "data": {
      "image/png": "[encoded data removed]",
      "text/plain": [
       "<Figure size 432x288 with 1 Axes>"
      ]
     },
     "metadata": {
      "needs_background": "light"
     },
     "output_type": "display_data"
    },
    {
     "name": "stdout",
     "output_type": "stream",
     "text": [
      "\n",
      "households\n",
      "Example of values: [ 1.  2.  3.  4.  5.  6.  7.  8.  9. 10.]\n",
      "Min: 1.0 - Max: 6082.0 - Median: 1001.4146767617938\n",
      "Nr of unique values: 1717 -  Max occurence: 49 - Min occurence: 1\n",
      "Number of na: 0\n"
     ]
    },
    {
     "data": {
      "image/png": "[encoded data removed]",
      "text/plain": [
       "<Figure size 432x288 with 1 Axes>"
      ]
     },
     "metadata": {
      "needs_background": "light"
     },
     "output_type": "display_data"
    },
    {
     "name": "stdout",
     "output_type": "stream",
     "text": [
      "\n",
      "median_income\n",
      "Example of values: [0.4999 0.536  0.5495 0.6433 0.6825 0.6991 0.7007 0.7025 0.7069 0.7075]\n",
      "Min: 0.4999 - Max: 15.0001 - Median: 4.10347061351376\n",
      "Nr of unique values: 10937 -  Max occurence: 41 - Min occurence: 1\n",
      "Number of na: 0\n"
     ]
    },
    {
     "data": {
      "image/png": "[encoded data removed]",
      "text/plain": [
       "<Figure size 432x288 with 1 Axes>"
      ]
     },
     "metadata": {
      "needs_background": "light"
     },
     "output_type": "display_data"
    },
    {
     "name": "stdout",
     "output_type": "stream",
     "text": [
      "\n",
      "ocean_proximity\n",
      "Example of values: ['<1H OCEAN' 'INLAND' 'ISLAND' 'NEAR BAY' 'NEAR OCEAN']\n"
     ]
    },
    {
     "ename": "TypeError",
     "evalue": "unsupported operand type(s) for /: 'str' and 'int'",
     "output_type": "error",
     "traceback": [
      "\u001b[0;31m---------------------------------------------------------------------------\u001b[0m",
      "\u001b[0;31mTypeError\u001b[0m                                 Traceback (most recent call last)",
      "\u001b[0;32m<ipython-input-24-80b23677296c>\u001b[0m in \u001b[0;36m<module>\u001b[0;34m\u001b[0m\n\u001b[1;32m      3\u001b[0m     \u001b[0munique\u001b[0m\u001b[0;34m,\u001b[0m \u001b[0mcount\u001b[0m \u001b[0;34m=\u001b[0m \u001b[0mnp\u001b[0m\u001b[0;34m.\u001b[0m\u001b[0munique\u001b[0m\u001b[0;34m(\u001b[0m\u001b[0mdata\u001b[0m\u001b[0;34m[\u001b[0m\u001b[0mcolumn\u001b[0m\u001b[0;34m]\u001b[0m\u001b[0;34m,\u001b[0m\u001b[0mreturn_counts\u001b[0m \u001b[0;34m=\u001b[0m \u001b[0;32mTrue\u001b[0m\u001b[0;34m)\u001b[0m\u001b[0;34m\u001b[0m\u001b[0;34m\u001b[0m\u001b[0m\n\u001b[1;32m      4\u001b[0m     \u001b[0mprint\u001b[0m\u001b[0;34m(\u001b[0m\u001b[0;34m\"Example of values: {}\"\u001b[0m\u001b[0;34m.\u001b[0m\u001b[0mformat\u001b[0m\u001b[0;34m(\u001b[0m\u001b[0munique\u001b[0m\u001b[0;34m[\u001b[0m\u001b[0;34m:\u001b[0m\u001b[0;36m10\u001b[0m\u001b[0;34m]\u001b[0m\u001b[0;34m)\u001b[0m\u001b[0;34m)\u001b[0m\u001b[0;34m\u001b[0m\u001b[0;34m\u001b[0m\u001b[0m\n\u001b[0;32m----> 5\u001b[0;31m     \u001b[0mprint\u001b[0m\u001b[0;34m(\u001b[0m\u001b[0;34m\"Min: {} - Max: {} - Median: {}\"\u001b[0m\u001b[0;34m.\u001b[0m\u001b[0mformat\u001b[0m\u001b[0;34m(\u001b[0m\u001b[0mmin\u001b[0m\u001b[0;34m(\u001b[0m\u001b[0munique\u001b[0m\u001b[0;34m)\u001b[0m\u001b[0;34m,\u001b[0m\u001b[0mmax\u001b[0m\u001b[0;34m(\u001b[0m\u001b[0munique\u001b[0m\u001b[0;34m)\u001b[0m\u001b[0;34m,\u001b[0m\u001b[0mnp\u001b[0m\u001b[0;34m.\u001b[0m\u001b[0mmean\u001b[0m\u001b[0;34m(\u001b[0m\u001b[0munique\u001b[0m\u001b[0;34m)\u001b[0m\u001b[0;34m)\u001b[0m\u001b[0;34m)\u001b[0m\u001b[0;34m\u001b[0m\u001b[0;34m\u001b[0m\u001b[0m\n\u001b[0m\u001b[1;32m      6\u001b[0m     \u001b[0mprint\u001b[0m\u001b[0;34m(\u001b[0m\u001b[0;34m\"Nr of unique values: {} -  Max occurence: {} - Min occurence: {}\"\u001b[0m\u001b[0;34m.\u001b[0m\u001b[0mformat\u001b[0m\u001b[0;34m(\u001b[0m\u001b[0mlen\u001b[0m\u001b[0;34m(\u001b[0m\u001b[0munique\u001b[0m\u001b[0;34m)\u001b[0m\u001b[0;34m,\u001b[0m\u001b[0mmax\u001b[0m\u001b[0;34m(\u001b[0m\u001b[0mcount\u001b[0m\u001b[0;34m)\u001b[0m\u001b[0;34m,\u001b[0m\u001b[0mmin\u001b[0m\u001b[0;34m(\u001b[0m\u001b[0mcount\u001b[0m\u001b[0;34m)\u001b[0m\u001b[0;34m)\u001b[0m \u001b[0;34m)\u001b[0m\u001b[0;34m\u001b[0m\u001b[0;34m\u001b[0m\u001b[0m\n\u001b[1;32m      7\u001b[0m     \u001b[0mprint\u001b[0m\u001b[0;34m(\u001b[0m\u001b[0;34m\"Number of na: {}\"\u001b[0m\u001b[0;34m.\u001b[0m\u001b[0mformat\u001b[0m\u001b[0;34m(\u001b[0m\u001b[0mdata\u001b[0m\u001b[0;34m[\u001b[0m\u001b[0mcolumn\u001b[0m\u001b[0;34m]\u001b[0m\u001b[0;34m.\u001b[0m\u001b[0misna\u001b[0m\u001b[0;34m(\u001b[0m\u001b[0;34m)\u001b[0m\u001b[0;34m.\u001b[0m\u001b[0msum\u001b[0m\u001b[0;34m(\u001b[0m\u001b[0;34m)\u001b[0m\u001b[0;34m)\u001b[0m\u001b[0;34m)\u001b[0m\u001b[0;34m\u001b[0m\u001b[0;34m\u001b[0m\u001b[0m\n",
      "\u001b[0;32m<__array_function__ internals>\u001b[0m in \u001b[0;36mmean\u001b[0;34m(*args, **kwargs)\u001b[0m\n",
      "\u001b[0;32m/vol/bitbucket/nuric/docenv/lib/python3.8/site-packages/numpy/core/fromnumeric.py\u001b[0m in \u001b[0;36mmean\u001b[0;34m(a, axis, dtype, out, keepdims)\u001b[0m\n\u001b[1;32m   3370\u001b[0m             \u001b[0;32mreturn\u001b[0m \u001b[0mmean\u001b[0m\u001b[0;34m(\u001b[0m\u001b[0maxis\u001b[0m\u001b[0;34m=\u001b[0m\u001b[0maxis\u001b[0m\u001b[0;34m,\u001b[0m \u001b[0mdtype\u001b[0m\u001b[0;34m=\u001b[0m\u001b[0mdtype\u001b[0m\u001b[0;34m,\u001b[0m \u001b[0mout\u001b[0m\u001b[0;34m=\u001b[0m\u001b[0mout\u001b[0m\u001b[0;34m,\u001b[0m \u001b[0;34m**\u001b[0m\u001b[0mkwargs\u001b[0m\u001b[0;34m)\u001b[0m\u001b[0;34m\u001b[0m\u001b[0;34m\u001b[0m\u001b[0m\n\u001b[1;32m   3371\u001b[0m \u001b[0;34m\u001b[0m\u001b[0m\n\u001b[0;32m-> 3372\u001b[0;31m     return _methods._mean(a, axis=axis, dtype=dtype,\n\u001b[0m\u001b[1;32m   3373\u001b[0m                           out=out, **kwargs)\n\u001b[1;32m   3374\u001b[0m \u001b[0;34m\u001b[0m\u001b[0m\n",
      "\u001b[0;32m/vol/bitbucket/nuric/docenv/lib/python3.8/site-packages/numpy/core/_methods.py\u001b[0m in \u001b[0;36m_mean\u001b[0;34m(a, axis, dtype, out, keepdims)\u001b[0m\n\u001b[1;32m    170\u001b[0m             \u001b[0mret\u001b[0m \u001b[0;34m=\u001b[0m \u001b[0mret\u001b[0m\u001b[0;34m.\u001b[0m\u001b[0mdtype\u001b[0m\u001b[0;34m.\u001b[0m\u001b[0mtype\u001b[0m\u001b[0;34m(\u001b[0m\u001b[0mret\u001b[0m \u001b[0;34m/\u001b[0m \u001b[0mrcount\u001b[0m\u001b[0;34m)\u001b[0m\u001b[0;34m\u001b[0m\u001b[0;34m\u001b[0m\u001b[0m\n\u001b[1;32m    171\u001b[0m     \u001b[0;32melse\u001b[0m\u001b[0;34m:\u001b[0m\u001b[0;34m\u001b[0m\u001b[0;34m\u001b[0m\u001b[0m\n\u001b[0;32m--> 172\u001b[0;31m         \u001b[0mret\u001b[0m \u001b[0;34m=\u001b[0m \u001b[0mret\u001b[0m \u001b[0;34m/\u001b[0m \u001b[0mrcount\u001b[0m\u001b[0;34m\u001b[0m\u001b[0;34m\u001b[0m\u001b[0m\n\u001b[0m\u001b[1;32m    173\u001b[0m \u001b[0;34m\u001b[0m\u001b[0m\n\u001b[1;32m    174\u001b[0m     \u001b[0;32mreturn\u001b[0m \u001b[0mret\u001b[0m\u001b[0;34m\u001b[0m\u001b[0;34m\u001b[0m\u001b[0m\n",
      "\u001b[0;31mTypeError\u001b[0m: unsupported operand type(s) for /: 'str' and 'int'"
     ]
    }
   ],
   "source": [
    "for column in data.columns:\n",
    "    print(column)\n",
    "    unique, count = np.unique(data[column],return_counts = True)\n",
    "    print(\"Example of values: {}\".format(unique[:10]))\n",
    "    print(\"Min: {} - Max: {} - Median: {}\".format(min(unique),max(unique),np.mean(unique)))\n",
    "    print(\"Nr of unique values: {} -  Max occurence: {} - Min occurence: {}\".format(len(unique),max(count),min(count)) )\n",
    "    print(\"Number of na: {}\".format(data[column].isna().sum()))\n",
    "    occurences,countcount = np.unique(count, return_counts= True)\n",
    "    plt.plot(occurences,countcount)\n",
    "    plt.show()\n",
    "    print()"
   ]
  },
  {
   "cell_type": "code",
   "execution_count": null,
   "metadata": {},
   "outputs": [],
   "source": []
  }
 ],
 "metadata": {
  "kernelspec": {
   "display_name": "Python 3",
   "language": "python",
   "name": "python3"
  },
  "language_info": {
   "codemirror_mode": {
    "name": "ipython",
    "version": 3
   },
   "file_extension": ".py",
   "mimetype": "text/x-python",
   "name": "python",
   "nbconvert_exporter": "python",
   "pygments_lexer": "ipython3",
   "version": "3.8.5"
  }
 },
 "nbformat": 4,
 "nbformat_minor": 4
}
